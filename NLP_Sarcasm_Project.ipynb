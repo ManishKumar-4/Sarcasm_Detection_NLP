{
 "cells": [
  {
   "cell_type": "markdown",
   "metadata": {
    "colab_type": "text",
    "id": "ktJh4C6YfvEh"
   },
   "source": [
    "# Sarcasm Detection\n"
   ]
  },
  {
   "cell_type": "markdown",
   "metadata": {
    "colab_type": "text",
    "id": "5lW11U-9uPvl"
   },
   "source": [
    "# Problem Description:\n",
    "Sarcasm is \"a sharp, bitter, or cutting expression or remark; a bitter gibe or taunt\". Sarcasm may employ ambivalence, although sarcasm is not necessarily ironic. Most noticeable in spoken word, sarcasm is mainly distinguished by the inflection with which it is spoken and is largely context-dependent.In sarcasm, ridicule or mockery is used harshly, often crudely and contemptuously, for destructive purposes. It may be used in an indirect manner, and have the form of irony.\n",
    "\n",
    "Past studies in Sarcasm Detection mostly make use of Twitter datasets collected using hashtag based supervision but such datasets are noisy in terms of labels and  language. Furthermore, many tweets are replies to other tweets and detecting sarcasm in these requires the availability of contextual tweets.\n",
    "\n",
    "## Objective:\n",
    " The goal of the project is to  build a model to detect whether a sentence is sarcastic or not.\n",
    "\n",
    "## Data Description:\n",
    "News Headlines dataset for Sarcasm Detection. The dataset is collected from two \n",
    "news websites, theonion.com and huffingtonpost.com. This new dataset has the \n",
    "following advantages over the existing Twitter datasets:\n",
    "Since news headlines are written by professionals in a formal manner, there are \n",
    "no spelling mistakes and informal usage. This reduces the sparsity and also \n",
    "increases the chance of finding pre-trained embedding.\n",
    "\n",
    "Furthermore, since the sole purpose of TheOnion is to publish sarcastic news, we get high-quality labels with much less noise as compared to Twitter datasets.\n",
    "Unlike tweets that reply to other tweets, the news headlines obtained are selfcontained. This would help us in teasing apart the real sarcastic elements.\n",
    "\n",
    "### Content\n",
    "Each record consists of three attributes:\n",
    "-  is_sarcastic: 1 if the record is sarcastic otherwise 0\n",
    "-  headline: the headline of the news article\n",
    "-  article_link: link to the original news article. Useful in collecting supplementary data"
   ]
  },
  {
   "cell_type": "markdown",
   "metadata": {
    "colab_type": "text",
    "id": "4zKbfjpDWX5O"
   },
   "source": [
    "# (1)Mounting drive in Google Colab"
   ]
  },
  {
   "cell_type": "code",
   "execution_count": 2,
   "metadata": {
    "colab": {
     "base_uri": "https://localhost:8080/",
     "height": 122
    },
    "colab_type": "code",
    "id": "evMlMnebWnZ-",
    "outputId": "5bdea995-1515-43b9-d718-2245883df700"
   },
   "outputs": [
    {
     "name": "stdout",
     "output_type": "stream",
     "text": [
      "Go to this URL in a browser: https://accounts.google.com/o/oauth2/auth?client_id=947318989803-6bn6qk8qdgf4n4g3pfee6491hc0brc4i.apps.googleusercontent.com&redirect_uri=urn%3aietf%3awg%3aoauth%3a2.0%3aoob&response_type=code&scope=email%20https%3a%2f%2fwww.googleapis.com%2fauth%2fdocs.test%20https%3a%2f%2fwww.googleapis.com%2fauth%2fdrive%20https%3a%2f%2fwww.googleapis.com%2fauth%2fdrive.photos.readonly%20https%3a%2f%2fwww.googleapis.com%2fauth%2fpeopleapi.readonly\n",
      "\n",
      "Enter your authorization code:\n",
      "··········\n",
      "Mounted at /content/drive\n"
     ]
    }
   ],
   "source": [
    "from google.colab import drive\n",
    "drive.mount('/content/drive')"
   ]
  },
  {
   "cell_type": "markdown",
   "metadata": {
    "colab_type": "text",
    "id": "QXgNONiTYB8z"
   },
   "source": [
    "# (2)Importing important libraries"
   ]
  },
  {
   "cell_type": "code",
   "execution_count": 3,
   "metadata": {
    "colab": {},
    "colab_type": "code",
    "id": "lXVsL58vYjO2"
   },
   "outputs": [],
   "source": [
    "%tensorflow_version 2.x"
   ]
  },
  {
   "cell_type": "code",
   "execution_count": 4,
   "metadata": {
    "colab": {
     "base_uri": "https://localhost:8080/",
     "height": 35
    },
    "colab_type": "code",
    "id": "_pmeFi-4YPd1",
    "outputId": "e9e8b1d7-df96-450b-e8f2-e9e0e9734919"
   },
   "outputs": [
    {
     "data": {
      "application/vnd.google.colaboratory.intrinsic": {
       "type": "string"
      },
      "text/plain": [
       "'2.2.0'"
      ]
     },
     "execution_count": 4,
     "metadata": {
      "tags": []
     },
     "output_type": "execute_result"
    }
   ],
   "source": [
    "import tensorflow \n",
    "tensorflow.__version__"
   ]
  },
  {
   "cell_type": "code",
   "execution_count": 5,
   "metadata": {
    "colab": {},
    "colab_type": "code",
    "id": "33IE5FikZg2N"
   },
   "outputs": [],
   "source": [
    "import numpy as np\n",
    "import pandas as pd\n",
    "import matplotlib.pyplot as plt\n",
    "import os\n",
    "\n",
    "#Random number generator\n",
    "import random\n",
    "random.seed(0)\n",
    "\n",
    "#ignoring the warnings\n",
    "import warnings\n",
    "warnings.filterwarnings('ignore')"
   ]
  },
  {
   "cell_type": "markdown",
   "metadata": {
    "colab_type": "text",
    "id": "KBI0OE8jbNi0"
   },
   "source": [
    "# (3)Changing the current working directory to project folder"
   ]
  },
  {
   "cell_type": "code",
   "execution_count": 6,
   "metadata": {
    "colab": {},
    "colab_type": "code",
    "id": "_9iQKCV0aufb"
   },
   "outputs": [],
   "source": [
    "project_path=('/content/drive/My Drive/Module-NLP/Project 2')"
   ]
  },
  {
   "cell_type": "code",
   "execution_count": 7,
   "metadata": {
    "colab": {},
    "colab_type": "code",
    "id": "iIBBa2f5bxwG"
   },
   "outputs": [],
   "source": [
    "os.chdir(project_path)"
   ]
  },
  {
   "cell_type": "code",
   "execution_count": 8,
   "metadata": {
    "colab": {},
    "colab_type": "code",
    "id": "qUVfu6-CcCnQ"
   },
   "outputs": [],
   "source": [
    "#os.listdir(project_path)\n",
    "#ls"
   ]
  },
  {
   "cell_type": "markdown",
   "metadata": {
    "colab_type": "text",
    "id": "12gcM-PYcOj_"
   },
   "source": [
    "# (4)Reading the file and exploring the data"
   ]
  },
  {
   "cell_type": "code",
   "execution_count": 9,
   "metadata": {
    "colab": {},
    "colab_type": "code",
    "id": "Hjo-Jp7fccj-"
   },
   "outputs": [],
   "source": [
    "df=pd.read_json('Sarcasm_Headlines_Dataset.json',lines=True)"
   ]
  },
  {
   "cell_type": "code",
   "execution_count": 10,
   "metadata": {
    "colab": {
     "base_uri": "https://localhost:8080/",
     "height": 297
    },
    "colab_type": "code",
    "id": "1BIL9tVifHZF",
    "outputId": "a8aec293-57eb-445c-fcaa-2380951a33d7"
   },
   "outputs": [
    {
     "data": {
      "text/html": [
       "<div>\n",
       "<style scoped>\n",
       "    .dataframe tbody tr th:only-of-type {\n",
       "        vertical-align: middle;\n",
       "    }\n",
       "\n",
       "    .dataframe tbody tr th {\n",
       "        vertical-align: top;\n",
       "    }\n",
       "\n",
       "    .dataframe thead th {\n",
       "        text-align: right;\n",
       "    }\n",
       "</style>\n",
       "<table border=\"1\" class=\"dataframe\">\n",
       "  <thead>\n",
       "    <tr style=\"text-align: right;\">\n",
       "      <th></th>\n",
       "      <th>article_link</th>\n",
       "      <th>headline</th>\n",
       "      <th>is_sarcastic</th>\n",
       "    </tr>\n",
       "  </thead>\n",
       "  <tbody>\n",
       "    <tr>\n",
       "      <th>0</th>\n",
       "      <td>https://www.huffingtonpost.com/entry/versace-b...</td>\n",
       "      <td>former versace store clerk sues over secret 'b...</td>\n",
       "      <td>0</td>\n",
       "    </tr>\n",
       "    <tr>\n",
       "      <th>1</th>\n",
       "      <td>https://www.huffingtonpost.com/entry/roseanne-...</td>\n",
       "      <td>the 'roseanne' revival catches up to our thorn...</td>\n",
       "      <td>0</td>\n",
       "    </tr>\n",
       "    <tr>\n",
       "      <th>2</th>\n",
       "      <td>https://local.theonion.com/mom-starting-to-fea...</td>\n",
       "      <td>mom starting to fear son's web series closest ...</td>\n",
       "      <td>1</td>\n",
       "    </tr>\n",
       "    <tr>\n",
       "      <th>3</th>\n",
       "      <td>https://politics.theonion.com/boehner-just-wan...</td>\n",
       "      <td>boehner just wants wife to listen, not come up...</td>\n",
       "      <td>1</td>\n",
       "    </tr>\n",
       "    <tr>\n",
       "      <th>4</th>\n",
       "      <td>https://www.huffingtonpost.com/entry/jk-rowlin...</td>\n",
       "      <td>j.k. rowling wishes snape happy birthday in th...</td>\n",
       "      <td>0</td>\n",
       "    </tr>\n",
       "    <tr>\n",
       "      <th>5</th>\n",
       "      <td>https://www.huffingtonpost.com/entry/advancing...</td>\n",
       "      <td>advancing the world's women</td>\n",
       "      <td>0</td>\n",
       "    </tr>\n",
       "    <tr>\n",
       "      <th>6</th>\n",
       "      <td>https://www.huffingtonpost.com/entry/how-meat-...</td>\n",
       "      <td>the fascinating case for eating lab-grown meat</td>\n",
       "      <td>0</td>\n",
       "    </tr>\n",
       "    <tr>\n",
       "      <th>7</th>\n",
       "      <td>https://www.huffingtonpost.com/entry/boxed-col...</td>\n",
       "      <td>this ceo will send your kids to school, if you...</td>\n",
       "      <td>0</td>\n",
       "    </tr>\n",
       "  </tbody>\n",
       "</table>\n",
       "</div>"
      ],
      "text/plain": [
       "                                        article_link  ... is_sarcastic\n",
       "0  https://www.huffingtonpost.com/entry/versace-b...  ...            0\n",
       "1  https://www.huffingtonpost.com/entry/roseanne-...  ...            0\n",
       "2  https://local.theonion.com/mom-starting-to-fea...  ...            1\n",
       "3  https://politics.theonion.com/boehner-just-wan...  ...            1\n",
       "4  https://www.huffingtonpost.com/entry/jk-rowlin...  ...            0\n",
       "5  https://www.huffingtonpost.com/entry/advancing...  ...            0\n",
       "6  https://www.huffingtonpost.com/entry/how-meat-...  ...            0\n",
       "7  https://www.huffingtonpost.com/entry/boxed-col...  ...            0\n",
       "\n",
       "[8 rows x 3 columns]"
      ]
     },
     "execution_count": 10,
     "metadata": {
      "tags": []
     },
     "output_type": "execute_result"
    }
   ],
   "source": [
    "df.head(8)"
   ]
  },
  {
   "cell_type": "code",
   "execution_count": 11,
   "metadata": {
    "colab": {
     "base_uri": "https://localhost:8080/",
     "height": 34
    },
    "colab_type": "code",
    "id": "AKu-nbYuffoD",
    "outputId": "f5197910-f0b2-492c-ae31-08c67a6668d1"
   },
   "outputs": [
    {
     "data": {
      "text/plain": [
       "(26709, 3)"
      ]
     },
     "execution_count": 11,
     "metadata": {
      "tags": []
     },
     "output_type": "execute_result"
    }
   ],
   "source": [
    "df.shape"
   ]
  },
  {
   "cell_type": "code",
   "execution_count": 12,
   "metadata": {
    "colab": {
     "base_uri": "https://localhost:8080/",
     "height": 85
    },
    "colab_type": "code",
    "id": "CQP58lPOf4x8",
    "outputId": "a37686b2-fc0c-4be5-e881-35aa5b146ae0"
   },
   "outputs": [
    {
     "data": {
      "text/plain": [
       "article_link    0\n",
       "headline        0\n",
       "is_sarcastic    0\n",
       "dtype: int64"
      ]
     },
     "execution_count": 12,
     "metadata": {
      "tags": []
     },
     "output_type": "execute_result"
    }
   ],
   "source": [
    "df.isnull().sum()"
   ]
  },
  {
   "cell_type": "markdown",
   "metadata": {
    "colab_type": "text",
    "id": "TMtZ-2uSyM0d"
   },
   "source": [
    "From above we can see that there is no missing values.Let's see one headline"
   ]
  },
  {
   "cell_type": "code",
   "execution_count": 13,
   "metadata": {
    "colab": {
     "base_uri": "https://localhost:8080/",
     "height": 35
    },
    "colab_type": "code",
    "id": "lUbCSlA-vajg",
    "outputId": "e85fcba4-8e3d-4b5e-b2ac-5452db4f854f"
   },
   "outputs": [
    {
     "data": {
      "application/vnd.google.colaboratory.intrinsic": {
       "type": "string"
      },
      "text/plain": [
       "\"mom starting to fear son's web series closest thing she will have to grandchild\""
      ]
     },
     "execution_count": 13,
     "metadata": {
      "tags": []
     },
     "output_type": "execute_result"
    }
   ],
   "source": [
    "df['headline'][2]"
   ]
  },
  {
   "cell_type": "code",
   "execution_count": 14,
   "metadata": {
    "colab": {
     "base_uri": "https://localhost:8080/",
     "height": 34
    },
    "colab_type": "code",
    "id": "9NtEsqHBvIuG",
    "outputId": "fb8e7f39-25d0-4fa7-ac8d-ca4ea41cd33a"
   },
   "outputs": [
    {
     "data": {
      "text/plain": [
       "0.43895316185555433"
      ]
     },
     "execution_count": 14,
     "metadata": {
      "tags": []
     },
     "output_type": "execute_result"
    }
   ],
   "source": [
    "df['is_sarcastic'].mean()"
   ]
  },
  {
   "cell_type": "code",
   "execution_count": 15,
   "metadata": {
    "colab": {
     "base_uri": "https://localhost:8080/",
     "height": 297
    },
    "colab_type": "code",
    "id": "6haB3-Cau0Aq",
    "outputId": "2372fa7d-e45e-4922-fc00-153167f34e1f"
   },
   "outputs": [
    {
     "data": {
      "text/plain": [
       "<matplotlib.axes._subplots.AxesSubplot at 0x7f843356dcc0>"
      ]
     },
     "execution_count": 15,
     "metadata": {
      "tags": []
     },
     "output_type": "execute_result"
    },
    {
     "data": {
      "image/png": "[encoded data removed]",
      "text/plain": [
       "<Figure size 432x288 with 1 Axes>"
      ]
     },
     "metadata": {
      "needs_background": "light",
      "tags": []
     },
     "output_type": "display_data"
    }
   ],
   "source": [
    "import seaborn as sns\n",
    "sns.countplot(df['is_sarcastic'])"
   ]
  },
  {
   "cell_type": "markdown",
   "metadata": {
    "colab_type": "text",
    "id": "k9Y481thyrCu"
   },
   "source": [
    "From above we can observe that we have about 44 percent records in which headline is Sarcastic.It can be clearly seen from the above figure that the dataset is not imbalanced"
   ]
  },
  {
   "cell_type": "markdown",
   "metadata": {
    "colab_type": "text",
    "id": "dKMOgTdGgRrD"
   },
   "source": [
    "# (5)Dropping irrelevant column"
   ]
  },
  {
   "cell_type": "code",
   "execution_count": 16,
   "metadata": {
    "colab": {
     "base_uri": "https://localhost:8080/",
     "height": 204
    },
    "colab_type": "code",
    "id": "eWVeG1tcgiSq",
    "outputId": "a09602bc-42dc-40fe-a67a-8e62ec619443"
   },
   "outputs": [
    {
     "data": {
      "text/html": [
       "<div>\n",
       "<style scoped>\n",
       "    .dataframe tbody tr th:only-of-type {\n",
       "        vertical-align: middle;\n",
       "    }\n",
       "\n",
       "    .dataframe tbody tr th {\n",
       "        vertical-align: top;\n",
       "    }\n",
       "\n",
       "    .dataframe thead th {\n",
       "        text-align: right;\n",
       "    }\n",
       "</style>\n",
       "<table border=\"1\" class=\"dataframe\">\n",
       "  <thead>\n",
       "    <tr style=\"text-align: right;\">\n",
       "      <th></th>\n",
       "      <th>headline</th>\n",
       "      <th>is_sarcastic</th>\n",
       "    </tr>\n",
       "  </thead>\n",
       "  <tbody>\n",
       "    <tr>\n",
       "      <th>0</th>\n",
       "      <td>former versace store clerk sues over secret 'b...</td>\n",
       "      <td>0</td>\n",
       "    </tr>\n",
       "    <tr>\n",
       "      <th>1</th>\n",
       "      <td>the 'roseanne' revival catches up to our thorn...</td>\n",
       "      <td>0</td>\n",
       "    </tr>\n",
       "    <tr>\n",
       "      <th>2</th>\n",
       "      <td>mom starting to fear son's web series closest ...</td>\n",
       "      <td>1</td>\n",
       "    </tr>\n",
       "    <tr>\n",
       "      <th>3</th>\n",
       "      <td>boehner just wants wife to listen, not come up...</td>\n",
       "      <td>1</td>\n",
       "    </tr>\n",
       "    <tr>\n",
       "      <th>4</th>\n",
       "      <td>j.k. rowling wishes snape happy birthday in th...</td>\n",
       "      <td>0</td>\n",
       "    </tr>\n",
       "  </tbody>\n",
       "</table>\n",
       "</div>"
      ],
      "text/plain": [
       "                                            headline  is_sarcastic\n",
       "0  former versace store clerk sues over secret 'b...             0\n",
       "1  the 'roseanne' revival catches up to our thorn...             0\n",
       "2  mom starting to fear son's web series closest ...             1\n",
       "3  boehner just wants wife to listen, not come up...             1\n",
       "4  j.k. rowling wishes snape happy birthday in th...             0"
      ]
     },
     "execution_count": 16,
     "metadata": {
      "tags": []
     },
     "output_type": "execute_result"
    }
   ],
   "source": [
    "d_frame=df.drop(columns='article_link',axis=1)\n",
    "d_frame.head(5)"
   ]
  },
  {
   "cell_type": "markdown",
   "metadata": {
    "colab_type": "text",
    "id": "tHAOCt7EhS02"
   },
   "source": [
    "# (6)Getting length of each sentence and finding maximum length of the sentence"
   ]
  },
  {
   "cell_type": "code",
   "execution_count": 17,
   "metadata": {
    "colab": {},
    "colab_type": "code",
    "id": "P-6IaVDji6J0"
   },
   "outputs": [],
   "source": [
    "word_count=[]\n",
    "for i in range(len(d_frame)):\n",
    "  x=len(d_frame['headline'][i].split())\n",
    "  word_count.append(x)"
   ]
  },
  {
   "cell_type": "code",
   "execution_count": 18,
   "metadata": {
    "colab": {
     "base_uri": "https://localhost:8080/",
     "height": 1000
    },
    "colab_type": "code",
    "id": "1JARlzEYjtJL",
    "outputId": "e1f741a2-821f-45b6-b4b1-7a1ba0f58ec7"
   },
   "outputs": [
    {
     "data": {
      "text/plain": [
       "[12,\n",
       " 14,\n",
       " 14,\n",
       " 13,\n",
       " 11,\n",
       " 4,\n",
       " 7,\n",
       " 14,\n",
       " 7,\n",
       " 9,\n",
       " 10,\n",
       " 8,\n",
       " 12,\n",
       " 10,\n",
       " 8,\n",
       " 8,\n",
       " 16,\n",
       " 7,\n",
       " 9,\n",
       " 3,\n",
       " 7,\n",
       " 16,\n",
       " 11,\n",
       " 9,\n",
       " 13,\n",
       " 7,\n",
       " 8,\n",
       " 4,\n",
       " 7,\n",
       " 7,\n",
       " 8,\n",
       " 10,\n",
       " 12,\n",
       " 9,\n",
       " 8,\n",
       " 8,\n",
       " 5,\n",
       " 15,\n",
       " 11,\n",
       " 10,\n",
       " 10,\n",
       " 15,\n",
       " 8,\n",
       " 8,\n",
       " 8,\n",
       " 6,\n",
       " 15,\n",
       " 11,\n",
       " 7,\n",
       " 4,\n",
       " 4,\n",
       " 11,\n",
       " 9,\n",
       " 13,\n",
       " 14,\n",
       " 11,\n",
       " 11,\n",
       " 9,\n",
       " 10,\n",
       " 12,\n",
       " 4,\n",
       " 5,\n",
       " 6,\n",
       " 13,\n",
       " 12,\n",
       " 9,\n",
       " 12,\n",
       " 17,\n",
       " 7,\n",
       " 7,\n",
       " 8,\n",
       " 9,\n",
       " 9,\n",
       " 8,\n",
       " 13,\n",
       " 11,\n",
       " 9,\n",
       " 10,\n",
       " 5,\n",
       " 8,\n",
       " 10,\n",
       " 8,\n",
       " 10,\n",
       " 13,\n",
       " 10,\n",
       " 11,\n",
       " 14,\n",
       " 11,\n",
       " 17,\n",
       " 13,\n",
       " 4,\n",
       " 19,\n",
       " 12,\n",
       " 8,\n",
       " 11,\n",
       " 9,\n",
       " 10,\n",
       " 10,\n",
       " 11,\n",
       " 9,\n",
       " 7,\n",
       " 12,\n",
       " 9,\n",
       " 10,\n",
       " 6,\n",
       " 9,\n",
       " 7,\n",
       " 10,\n",
       " 6,\n",
       " 11,\n",
       " 12,\n",
       " 12,\n",
       " 7,\n",
       " 22,\n",
       " 9,\n",
       " 11,\n",
       " 10,\n",
       " 19,\n",
       " 12,\n",
       " 13,\n",
       " 8,\n",
       " 3,\n",
       " 10,\n",
       " 10,\n",
       " 9,\n",
       " 9,\n",
       " 11,\n",
       " 8,\n",
       " 4,\n",
       " 14,\n",
       " 11,\n",
       " 8,\n",
       " 6,\n",
       " 11,\n",
       " 8,\n",
       " 7,\n",
       " 11,\n",
       " 9,\n",
       " 11,\n",
       " 9,\n",
       " 11,\n",
       " 11,\n",
       " 8,\n",
       " 6,\n",
       " 10,\n",
       " 8,\n",
       " 10,\n",
       " 9,\n",
       " 11,\n",
       " 15,\n",
       " 9,\n",
       " 8,\n",
       " 6,\n",
       " 11,\n",
       " 7,\n",
       " 9,\n",
       " 8,\n",
       " 11,\n",
       " 7,\n",
       " 18,\n",
       " 9,\n",
       " 7,\n",
       " 9,\n",
       " 14,\n",
       " 14,\n",
       " 13,\n",
       " 9,\n",
       " 15,\n",
       " 11,\n",
       " 8,\n",
       " 8,\n",
       " 10,\n",
       " 14,\n",
       " 9,\n",
       " 9,\n",
       " 6,\n",
       " 12,\n",
       " 5,\n",
       " 10,\n",
       " 7,\n",
       " 13,\n",
       " 14,\n",
       " 8,\n",
       " 7,\n",
       " 10,\n",
       " 9,\n",
       " 15,\n",
       " 10,\n",
       " 11,\n",
       " 11,\n",
       " 11,\n",
       " 12,\n",
       " 6,\n",
       " 8,\n",
       " 9,\n",
       " 12,\n",
       " 6,\n",
       " 8,\n",
       " 12,\n",
       " 16,\n",
       " 7,\n",
       " 14,\n",
       " 12,\n",
       " 9,\n",
       " 7,\n",
       " 13,\n",
       " 6,\n",
       " 7,\n",
       " 12,\n",
       " 9,\n",
       " 10,\n",
       " 6,\n",
       " 13,\n",
       " 15,\n",
       " 6,\n",
       " 22,\n",
       " 9,\n",
       " 11,\n",
       " 15,\n",
       " 9,\n",
       " 12,\n",
       " 10,\n",
       " 12,\n",
       " 10,\n",
       " 5,\n",
       " 8,\n",
       " 10,\n",
       " 9,\n",
       " 12,\n",
       " 5,\n",
       " 9,\n",
       " 8,\n",
       " 10,\n",
       " 11,\n",
       " 7,\n",
       " 9,\n",
       " 12,\n",
       " 12,\n",
       " 9,\n",
       " 8,\n",
       " 6,\n",
       " 14,\n",
       " 10,\n",
       " 11,\n",
       " 6,\n",
       " 7,\n",
       " 5,\n",
       " 13,\n",
       " 5,\n",
       " 8,\n",
       " 14,\n",
       " 9,\n",
       " 8,\n",
       " 9,\n",
       " 4,\n",
       " 5,\n",
       " 17,\n",
       " 13,\n",
       " 10,\n",
       " 7,\n",
       " 10,\n",
       " 12,\n",
       " 11,\n",
       " 8,\n",
       " 4,\n",
       " 7,\n",
       " 8,\n",
       " 10,\n",
       " 7,\n",
       " 11,\n",
       " 12,\n",
       " 12,\n",
       " 8,\n",
       " 16,\n",
       " 7,\n",
       " 8,\n",
       " 6,\n",
       " 8,\n",
       " 4,\n",
       " 9,\n",
       " 8,\n",
       " 6,\n",
       " 14,\n",
       " 8,\n",
       " 11,\n",
       " 14,\n",
       " 8,\n",
       " 7,\n",
       " 9,\n",
       " 3,\n",
       " 12,\n",
       " 14,\n",
       " 8,\n",
       " 10,\n",
       " 6,\n",
       " 9,\n",
       " 6,\n",
       " 8,\n",
       " 9,\n",
       " 7,\n",
       " 11,\n",
       " 8,\n",
       " 9,\n",
       " 16,\n",
       " 11,\n",
       " 14,\n",
       " 24,\n",
       " 9,\n",
       " 10,\n",
       " 13,\n",
       " 10,\n",
       " 11,\n",
       " 4,\n",
       " 7,\n",
       " 6,\n",
       " 12,\n",
       " 9,\n",
       " 6,\n",
       " 9,\n",
       " 9,\n",
       " 3,\n",
       " 11,\n",
       " 9,\n",
       " 8,\n",
       " 10,\n",
       " 8,\n",
       " 14,\n",
       " 18,\n",
       " 11,\n",
       " 8,\n",
       " 4,\n",
       " 8,\n",
       " 8,\n",
       " 8,\n",
       " 7,\n",
       " 13,\n",
       " 8,\n",
       " 14,\n",
       " 7,\n",
       " 8,\n",
       " 12,\n",
       " 5,\n",
       " 8,\n",
       " 12,\n",
       " 9,\n",
       " 8,\n",
       " 7,\n",
       " 6,\n",
       " 5,\n",
       " 17,\n",
       " 4,\n",
       " 12,\n",
       " 7,\n",
       " 13,\n",
       " 7,\n",
       " 13,\n",
       " 8,\n",
       " 8,\n",
       " 9,\n",
       " 11,\n",
       " 4,\n",
       " 10,\n",
       " 9,\n",
       " 5,\n",
       " 11,\n",
       " 17,\n",
       " 10,\n",
       " 7,\n",
       " 11,\n",
       " 11,\n",
       " 7,\n",
       " 6,\n",
       " 7,\n",
       " 13,\n",
       " 10,\n",
       " 7,\n",
       " 7,\n",
       " 9,\n",
       " 11,\n",
       " 13,\n",
       " 8,\n",
       " 16,\n",
       " 9,\n",
       " 10,\n",
       " 10,\n",
       " 8,\n",
       " 10,\n",
       " 12,\n",
       " 9,\n",
       " 7,\n",
       " 9,\n",
       " 11,\n",
       " 13,\n",
       " 12,\n",
       " 13,\n",
       " 12,\n",
       " 7,\n",
       " 13,\n",
       " 3,\n",
       " 11,\n",
       " 5,\n",
       " 7,\n",
       " 13,\n",
       " 10,\n",
       " 12,\n",
       " 11,\n",
       " 6,\n",
       " 12,\n",
       " 10,\n",
       " 8,\n",
       " 7,\n",
       " 9,\n",
       " 11,\n",
       " 18,\n",
       " 9,\n",
       " 7,\n",
       " 2,\n",
       " 5,\n",
       " 11,\n",
       " 6,\n",
       " 7,\n",
       " 6,\n",
       " 9,\n",
       " 12,\n",
       " 10,\n",
       " 10,\n",
       " 10,\n",
       " 4,\n",
       " 10,\n",
       " 5,\n",
       " 5,\n",
       " 9,\n",
       " 5,\n",
       " 8,\n",
       " 16,\n",
       " 7,\n",
       " 10,\n",
       " 10,\n",
       " 6,\n",
       " 17,\n",
       " 8,\n",
       " 10,\n",
       " 7,\n",
       " 10,\n",
       " 11,\n",
       " 10,\n",
       " 17,\n",
       " 11,\n",
       " 11,\n",
       " 14,\n",
       " 11,\n",
       " 9,\n",
       " 6,\n",
       " 5,\n",
       " 13,\n",
       " 16,\n",
       " 11,\n",
       " 14,\n",
       " 10,\n",
       " 6,\n",
       " 8,\n",
       " 12,\n",
       " 12,\n",
       " 8,\n",
       " 8,\n",
       " 4,\n",
       " 10,\n",
       " 9,\n",
       " 14,\n",
       " 8,\n",
       " 8,\n",
       " 10,\n",
       " 6,\n",
       " 10,\n",
       " 12,\n",
       " 3,\n",
       " 9,\n",
       " 13,\n",
       " 10,\n",
       " 7,\n",
       " 9,\n",
       " 16,\n",
       " 7,\n",
       " 16,\n",
       " 9,\n",
       " 9,\n",
       " 8,\n",
       " 7,\n",
       " 13,\n",
       " 6,\n",
       " 13,\n",
       " 14,\n",
       " 8,\n",
       " 12,\n",
       " 11,\n",
       " 17,\n",
       " 14,\n",
       " 8,\n",
       " 12,\n",
       " 11,\n",
       " 8,\n",
       " 10,\n",
       " 6,\n",
       " 9,\n",
       " 6,\n",
       " 8,\n",
       " 8,\n",
       " 11,\n",
       " 7,\n",
       " 10,\n",
       " 17,\n",
       " 6,\n",
       " 7,\n",
       " 9,\n",
       " 10,\n",
       " 10,\n",
       " 14,\n",
       " 13,\n",
       " 12,\n",
       " 7,\n",
       " 13,\n",
       " 7,\n",
       " 8,\n",
       " 9,\n",
       " 14,\n",
       " 8,\n",
       " 12,\n",
       " 9,\n",
       " 11,\n",
       " 8,\n",
       " 6,\n",
       " 19,\n",
       " 11,\n",
       " 7,\n",
       " 7,\n",
       " 10,\n",
       " 10,\n",
       " 8,\n",
       " 13,\n",
       " 9,\n",
       " 12,\n",
       " 6,\n",
       " 8,\n",
       " 7,\n",
       " 11,\n",
       " 18,\n",
       " 7,\n",
       " 5,\n",
       " 6,\n",
       " 9,\n",
       " 9,\n",
       " 8,\n",
       " 6,\n",
       " 6,\n",
       " 3,\n",
       " 12,\n",
       " 14,\n",
       " 11,\n",
       " 8,\n",
       " 3,\n",
       " 11,\n",
       " 10,\n",
       " 11,\n",
       " 12,\n",
       " 12,\n",
       " 13,\n",
       " 7,\n",
       " 13,\n",
       " 5,\n",
       " 8,\n",
       " 9,\n",
       " 13,\n",
       " 5,\n",
       " 4,\n",
       " 11,\n",
       " 12,\n",
       " 8,\n",
       " 11,\n",
       " 10,\n",
       " 8,\n",
       " 11,\n",
       " 10,\n",
       " 9,\n",
       " 11,\n",
       " 10,\n",
       " 10,\n",
       " 13,\n",
       " 11,\n",
       " 6,\n",
       " 8,\n",
       " 6,\n",
       " 9,\n",
       " 12,\n",
       " 9,\n",
       " 20,\n",
       " 7,\n",
       " 4,\n",
       " 9,\n",
       " 13,\n",
       " 8,\n",
       " 11,\n",
       " 11,\n",
       " 7,\n",
       " 10,\n",
       " 7,\n",
       " 11,\n",
       " 12,\n",
       " 9,\n",
       " 11,\n",
       " 7,\n",
       " 13,\n",
       " 5,\n",
       " 9,\n",
       " 4,\n",
       " 11,\n",
       " 13,\n",
       " 10,\n",
       " 11,\n",
       " 5,\n",
       " 12,\n",
       " 9,\n",
       " 13,\n",
       " 9,\n",
       " 9,\n",
       " 15,\n",
       " 10,\n",
       " 7,\n",
       " 11,\n",
       " 13,\n",
       " 15,\n",
       " 8,\n",
       " 10,\n",
       " 5,\n",
       " 7,\n",
       " 14,\n",
       " 6,\n",
       " 13,\n",
       " 13,\n",
       " 12,\n",
       " 12,\n",
       " 11,\n",
       " 9,\n",
       " 8,\n",
       " 12,\n",
       " 8,\n",
       " 8,\n",
       " 10,\n",
       " 13,\n",
       " 8,\n",
       " 11,\n",
       " 12,\n",
       " 10,\n",
       " 11,\n",
       " 8,\n",
       " 14,\n",
       " 5,\n",
       " 14,\n",
       " 15,\n",
       " 9,\n",
       " 11,\n",
       " 13,\n",
       " 12,\n",
       " 12,\n",
       " 11,\n",
       " 11,\n",
       " 13,\n",
       " 12,\n",
       " 10,\n",
       " 11,\n",
       " 5,\n",
       " 12,\n",
       " 10,\n",
       " 7,\n",
       " 10,\n",
       " 11,\n",
       " 9,\n",
       " 7,\n",
       " 11,\n",
       " 13,\n",
       " 10,\n",
       " 12,\n",
       " 16,\n",
       " 15,\n",
       " 10,\n",
       " 5,\n",
       " 9,\n",
       " 11,\n",
       " 10,\n",
       " 8,\n",
       " 11,\n",
       " 14,\n",
       " 5,\n",
       " 17,\n",
       " 11,\n",
       " 8,\n",
       " 11,\n",
       " 7,\n",
       " 10,\n",
       " 13,\n",
       " 15,\n",
       " 7,\n",
       " 12,\n",
       " 8,\n",
       " 7,\n",
       " 13,\n",
       " 7,\n",
       " 11,\n",
       " 11,\n",
       " 8,\n",
       " 13,\n",
       " 7,\n",
       " 9,\n",
       " 15,\n",
       " 12,\n",
       " 15,\n",
       " 16,\n",
       " 8,\n",
       " 13,\n",
       " 10,\n",
       " 10,\n",
       " 8,\n",
       " 8,\n",
       " 10,\n",
       " 12,\n",
       " 11,\n",
       " 6,\n",
       " 14,\n",
       " 5,\n",
       " 7,\n",
       " 12,\n",
       " 12,\n",
       " 9,\n",
       " 6,\n",
       " 3,\n",
       " 11,\n",
       " 9,\n",
       " 8,\n",
       " 9,\n",
       " 7,\n",
       " 11,\n",
       " 12,\n",
       " 12,\n",
       " 7,\n",
       " 9,\n",
       " 9,\n",
       " 12,\n",
       " 14,\n",
       " 7,\n",
       " 8,\n",
       " 6,\n",
       " 7,\n",
       " 16,\n",
       " 10,\n",
       " 8,\n",
       " 7,\n",
       " 12,\n",
       " 10,\n",
       " 11,\n",
       " 5,\n",
       " 7,\n",
       " 4,\n",
       " 5,\n",
       " 10,\n",
       " 7,\n",
       " 13,\n",
       " 10,\n",
       " 7,\n",
       " 8,\n",
       " 14,\n",
       " 8,\n",
       " 11,\n",
       " 10,\n",
       " 8,\n",
       " 9,\n",
       " 8,\n",
       " 7,\n",
       " 12,\n",
       " 9,\n",
       " 18,\n",
       " 6,\n",
       " 8,\n",
       " 8,\n",
       " 6,\n",
       " 11,\n",
       " 8,\n",
       " 7,\n",
       " 10,\n",
       " 13,\n",
       " 8,\n",
       " 6,\n",
       " 13,\n",
       " 13,\n",
       " 11,\n",
       " 7,\n",
       " 9,\n",
       " 13,\n",
       " 10,\n",
       " 12,\n",
       " 10,\n",
       " 8,\n",
       " 11,\n",
       " 14,\n",
       " 13,\n",
       " 11,\n",
       " 10,\n",
       " 17,\n",
       " 10,\n",
       " 8,\n",
       " 9,\n",
       " 12,\n",
       " 8,\n",
       " 13,\n",
       " 8,\n",
       " 8,\n",
       " 13,\n",
       " 5,\n",
       " 8,\n",
       " 15,\n",
       " 12,\n",
       " 12,\n",
       " 13,\n",
       " 11,\n",
       " 10,\n",
       " 8,\n",
       " 10,\n",
       " 11,\n",
       " 4,\n",
       " 7,\n",
       " 11,\n",
       " 10,\n",
       " 8,\n",
       " 12,\n",
       " 11,\n",
       " 19,\n",
       " 9,\n",
       " 14,\n",
       " 7,\n",
       " 17,\n",
       " 6,\n",
       " 7,\n",
       " 10,\n",
       " 10,\n",
       " 6,\n",
       " 11,\n",
       " 7,\n",
       " 12,\n",
       " 15,\n",
       " 11,\n",
       " 8,\n",
       " 7,\n",
       " 12,\n",
       " 11,\n",
       " 10,\n",
       " 8,\n",
       " 10,\n",
       " 14,\n",
       " 15,\n",
       " 17,\n",
       " 6,\n",
       " 15,\n",
       " 11,\n",
       " 14,\n",
       " 11,\n",
       " 12,\n",
       " 11,\n",
       " 9,\n",
       " 10,\n",
       " 9,\n",
       " 12,\n",
       " 11,\n",
       " 10,\n",
       " 10,\n",
       " 7,\n",
       " 11,\n",
       " 15,\n",
       " 13,\n",
       " 13,\n",
       " 13,\n",
       " 11,\n",
       " 15,\n",
       " 12,\n",
       " 5,\n",
       " 13,\n",
       " 11,\n",
       " 11,\n",
       " 16,\n",
       " 12,\n",
       " 8,\n",
       " 8,\n",
       " 3,\n",
       " 10,\n",
       " 10,\n",
       " 10,\n",
       " 11,\n",
       " 14,\n",
       " 15,\n",
       " 9,\n",
       " 14,\n",
       " 6,\n",
       " 9,\n",
       " 11,\n",
       " 11,\n",
       " 10,\n",
       " 6,\n",
       " 9,\n",
       " 9,\n",
       " 9,\n",
       " 11,\n",
       " 8,\n",
       " 9,\n",
       " 5,\n",
       " 5,\n",
       " 3,\n",
       " 11,\n",
       " 8,\n",
       " 12,\n",
       " 10,\n",
       " 14,\n",
       " 11,\n",
       " 10,\n",
       " 13,\n",
       " 13,\n",
       " 9,\n",
       " 8,\n",
       " 10,\n",
       " 7,\n",
       " 5,\n",
       " 8,\n",
       " 8,\n",
       " 21,\n",
       " 4,\n",
       " 8,\n",
       " 12,\n",
       " 12,\n",
       " 12,\n",
       " 12,\n",
       " 7,\n",
       " 4,\n",
       " 10,\n",
       " 9,\n",
       " 11,\n",
       " 14,\n",
       " 16,\n",
       " 11,\n",
       " 4,\n",
       " 13,\n",
       " 15,\n",
       " 8,\n",
       " 10,\n",
       " 11,\n",
       " 12,\n",
       " 10,\n",
       " 9,\n",
       " 9,\n",
       " 11,\n",
       " 8,\n",
       " 11,\n",
       " 13,\n",
       " 8,\n",
       " 8,\n",
       " 13,\n",
       " 8,\n",
       " 12,\n",
       " 8,\n",
       " 15,\n",
       " 7,\n",
       " 9,\n",
       " 6,\n",
       " 10,\n",
       " 5,\n",
       " 14,\n",
       " 7,\n",
       " 10,\n",
       " 13,\n",
       " 10,\n",
       " 9,\n",
       " 6,\n",
       " 6,\n",
       " 5,\n",
       " 10,\n",
       " 7,\n",
       " 15,\n",
       " 15,\n",
       " 3,\n",
       " 5,\n",
       " 9,\n",
       " 5,\n",
       " 10,\n",
       " 12,\n",
       " 4,\n",
       " 12,\n",
       " 5,\n",
       " 7,\n",
       " 17,\n",
       " 8,\n",
       " 12,\n",
       " 10,\n",
       " 11,\n",
       " 9,\n",
       " 5,\n",
       " ...]"
      ]
     },
     "execution_count": 18,
     "metadata": {
      "tags": []
     },
     "output_type": "execute_result"
    }
   ],
   "source": [
    "word_count"
   ]
  },
  {
   "cell_type": "code",
   "execution_count": 19,
   "metadata": {
    "colab": {},
    "colab_type": "code",
    "id": "_J65G-gdljHN"
   },
   "outputs": [],
   "source": [
    "max_length=max(word_count)"
   ]
  },
  {
   "cell_type": "code",
   "execution_count": 20,
   "metadata": {
    "colab": {
     "base_uri": "https://localhost:8080/",
     "height": 34
    },
    "colab_type": "code",
    "id": "8uXTcZEUs0DV",
    "outputId": "8fde4d30-5250-4b98-8751-d033f1b7cb74"
   },
   "outputs": [
    {
     "name": "stdout",
     "output_type": "stream",
     "text": [
      "Maximum word in the sentence is :  39\n"
     ]
    }
   ],
   "source": [
    "print('Maximum word in the sentence is : ',max_length)"
   ]
  },
  {
   "cell_type": "markdown",
   "metadata": {
    "colab_type": "text",
    "id": "Bs6ZU0UmtQv5"
   },
   "source": [
    "# (7)Text Preprocessing"
   ]
  },
  {
   "cell_type": "code",
   "execution_count": 21,
   "metadata": {
    "colab": {},
    "colab_type": "code",
    "id": "qDJe9OkKtzGn"
   },
   "outputs": [],
   "source": [
    "# Importing libraries useful for text preprocessing\n",
    "\n",
    "from tensorflow.keras.preprocessing.text import Tokenizer\n",
    "from tensorflow.keras.preprocessing.sequence import pad_sequences \n"
   ]
  },
  {
   "cell_type": "code",
   "execution_count": 22,
   "metadata": {
    "colab": {},
    "colab_type": "code",
    "id": "s6WoZYTvzdXL"
   },
   "outputs": [],
   "source": [
    "# Setting different parameters for the model\n",
    "\n",
    "max_features=10000\n",
    "max_len=max_length\n",
    "embedding_size=200"
   ]
  },
  {
   "cell_type": "code",
   "execution_count": 23,
   "metadata": {
    "colab": {},
    "colab_type": "code",
    "id": "ZxEvnjkFzc5y"
   },
   "outputs": [],
   "source": [
    "tokenizer=Tokenizer(num_words=max_features)\n",
    "tokenizer.fit_on_texts(list(d_frame['headline']))"
   ]
  },
  {
   "cell_type": "code",
   "execution_count": 24,
   "metadata": {
    "colab": {},
    "colab_type": "code",
    "id": "rMn9tWEe0x_X"
   },
   "outputs": [],
   "source": [
    "X=tokenizer.texts_to_sequences(d_frame['headline'])\n",
    "y=np.asarray(d_frame['is_sarcastic'])"
   ]
  },
  {
   "cell_type": "code",
   "execution_count": 25,
   "metadata": {
    "colab": {
     "base_uri": "https://localhost:8080/",
     "height": 35
    },
    "colab_type": "code",
    "id": "cBWZudRe20Xv",
    "outputId": "a9c7c8dc-edea-483b-99e2-59bc6704b306"
   },
   "outputs": [
    {
     "data": {
      "application/vnd.google.colaboratory.intrinsic": {
       "type": "string"
      },
      "text/plain": [
       "\"former versace store clerk sues over secret 'black code' for minority shoppers\""
      ]
     },
     "execution_count": 25,
     "metadata": {
      "tags": []
     },
     "output_type": "execute_result"
    }
   ],
   "source": [
    "d_frame['headline'][0]"
   ]
  },
  {
   "cell_type": "code",
   "execution_count": 26,
   "metadata": {
    "colab": {
     "base_uri": "https://localhost:8080/",
     "height": 34
    },
    "colab_type": "code",
    "id": "95PEkwhn2SfT",
    "outputId": "e36dc5c9-1a99-43b0-a2ba-0c3763fcd067"
   },
   "outputs": [
    {
     "data": {
      "text/plain": [
       "[307, 678, 3336, 2297, 47, 381, 2575, 5, 2576, 8433]"
      ]
     },
     "execution_count": 26,
     "metadata": {
      "tags": []
     },
     "output_type": "execute_result"
    }
   ],
   "source": [
    "X[0]"
   ]
  },
  {
   "cell_type": "markdown",
   "metadata": {
    "colab_type": "text",
    "id": "NDDe5Ugk4P3Y"
   },
   "source": [
    "The above is the index assigned to the words for the given  headline"
   ]
  },
  {
   "cell_type": "code",
   "execution_count": 27,
   "metadata": {
    "colab": {
     "base_uri": "https://localhost:8080/",
     "height": 1000
    },
    "colab_type": "code",
    "id": "V5icmYDT7fUK",
    "outputId": "712c5ccb-9c8b-4d23-a317-39bc75203e3e"
   },
   "outputs": [
    {
     "data": {
      "text/plain": [
       "{'to': 1,\n",
       " 'of': 2,\n",
       " 'the': 3,\n",
       " 'in': 4,\n",
       " 'for': 5,\n",
       " 'a': 6,\n",
       " 'on': 7,\n",
       " 'and': 8,\n",
       " 'with': 9,\n",
       " 'is': 10,\n",
       " 'new': 11,\n",
       " 'trump': 12,\n",
       " 'man': 13,\n",
       " 'from': 14,\n",
       " 'at': 15,\n",
       " 'about': 16,\n",
       " 'you': 17,\n",
       " 'this': 18,\n",
       " 'by': 19,\n",
       " 'after': 20,\n",
       " 'up': 21,\n",
       " 'out': 22,\n",
       " 'be': 23,\n",
       " 'how': 24,\n",
       " 'as': 25,\n",
       " 'it': 26,\n",
       " 'that': 27,\n",
       " 'not': 28,\n",
       " 'are': 29,\n",
       " 'your': 30,\n",
       " 'his': 31,\n",
       " 'what': 32,\n",
       " 'he': 33,\n",
       " 'all': 34,\n",
       " 'just': 35,\n",
       " 'who': 36,\n",
       " 'has': 37,\n",
       " 'will': 38,\n",
       " 'more': 39,\n",
       " 'one': 40,\n",
       " 'into': 41,\n",
       " 'report': 42,\n",
       " 'year': 43,\n",
       " 'why': 44,\n",
       " 'have': 45,\n",
       " 'area': 46,\n",
       " 'over': 47,\n",
       " 'donald': 48,\n",
       " 'u': 49,\n",
       " 'day': 50,\n",
       " 'says': 51,\n",
       " 's': 52,\n",
       " 'can': 53,\n",
       " 'first': 54,\n",
       " 'woman': 55,\n",
       " 'time': 56,\n",
       " 'like': 57,\n",
       " 'her': 58,\n",
       " \"trump's\": 59,\n",
       " 'old': 60,\n",
       " 'no': 61,\n",
       " 'get': 62,\n",
       " 'off': 63,\n",
       " 'an': 64,\n",
       " 'life': 65,\n",
       " 'people': 66,\n",
       " 'obama': 67,\n",
       " 'now': 68,\n",
       " 'house': 69,\n",
       " 'still': 70,\n",
       " \"'\": 71,\n",
       " 'women': 72,\n",
       " 'make': 73,\n",
       " 'was': 74,\n",
       " 'than': 75,\n",
       " 'white': 76,\n",
       " 'back': 77,\n",
       " 'my': 78,\n",
       " 'i': 79,\n",
       " 'clinton': 80,\n",
       " 'down': 81,\n",
       " 'if': 82,\n",
       " '5': 83,\n",
       " 'when': 84,\n",
       " 'world': 85,\n",
       " 'could': 86,\n",
       " 'we': 87,\n",
       " 'their': 88,\n",
       " 'before': 89,\n",
       " 'americans': 90,\n",
       " 'way': 91,\n",
       " 'do': 92,\n",
       " 'family': 93,\n",
       " 'most': 94,\n",
       " 'gop': 95,\n",
       " 'they': 96,\n",
       " 'study': 97,\n",
       " 'school': 98,\n",
       " \"it's\": 99,\n",
       " 'black': 100,\n",
       " 'best': 101,\n",
       " 'years': 102,\n",
       " 'bill': 103,\n",
       " 'should': 104,\n",
       " '3': 105,\n",
       " 'him': 106,\n",
       " 'would': 107,\n",
       " 'so': 108,\n",
       " 'police': 109,\n",
       " 'only': 110,\n",
       " 'watch': 111,\n",
       " 'american': 112,\n",
       " 'really': 113,\n",
       " 'being': 114,\n",
       " 'but': 115,\n",
       " 'last': 116,\n",
       " 'know': 117,\n",
       " '10': 118,\n",
       " \"can't\": 119,\n",
       " 'death': 120,\n",
       " 'home': 121,\n",
       " 'during': 122,\n",
       " 'video': 123,\n",
       " 'finds': 124,\n",
       " 'state': 125,\n",
       " 'or': 126,\n",
       " 'president': 127,\n",
       " 'health': 128,\n",
       " 'going': 129,\n",
       " 'say': 130,\n",
       " 'show': 131,\n",
       " 'nation': 132,\n",
       " 'good': 133,\n",
       " 'things': 134,\n",
       " 'hillary': 135,\n",
       " \"'the\": 136,\n",
       " 'may': 137,\n",
       " '2': 138,\n",
       " 'against': 139,\n",
       " 'campaign': 140,\n",
       " 'every': 141,\n",
       " 'she': 142,\n",
       " 'love': 143,\n",
       " 'mom': 144,\n",
       " 'need': 145,\n",
       " 'big': 146,\n",
       " 'right': 147,\n",
       " 'party': 148,\n",
       " 'gets': 149,\n",
       " '000': 150,\n",
       " 'too': 151,\n",
       " 'getting': 152,\n",
       " 'these': 153,\n",
       " 'kids': 154,\n",
       " 'some': 155,\n",
       " 'parents': 156,\n",
       " 'work': 157,\n",
       " 'court': 158,\n",
       " 'little': 159,\n",
       " 'change': 160,\n",
       " 'take': 161,\n",
       " 'high': 162,\n",
       " 'makes': 163,\n",
       " 'self': 164,\n",
       " 'our': 165,\n",
       " 'calls': 166,\n",
       " 'john': 167,\n",
       " 'other': 168,\n",
       " 'news': 169,\n",
       " 'through': 170,\n",
       " \"doesn't\": 171,\n",
       " 'while': 172,\n",
       " \"here's\": 173,\n",
       " 'never': 174,\n",
       " 'child': 175,\n",
       " 'gay': 176,\n",
       " 'dead': 177,\n",
       " 'look': 178,\n",
       " 'election': 179,\n",
       " 'want': 180,\n",
       " 'own': 181,\n",
       " '4': 182,\n",
       " \"don't\": 183,\n",
       " 'see': 184,\n",
       " 'takes': 185,\n",
       " 'america': 186,\n",
       " '7': 187,\n",
       " 'local': 188,\n",
       " 'real': 189,\n",
       " 'where': 190,\n",
       " 'next': 191,\n",
       " 'stop': 192,\n",
       " 'even': 193,\n",
       " 'its': 194,\n",
       " \"he's\": 195,\n",
       " 'war': 196,\n",
       " 'college': 197,\n",
       " 'go': 198,\n",
       " '6': 199,\n",
       " \"nation's\": 200,\n",
       " 'sex': 201,\n",
       " 'bush': 202,\n",
       " 'made': 203,\n",
       " 'plan': 204,\n",
       " 'office': 205,\n",
       " 'again': 206,\n",
       " 'guy': 207,\n",
       " 'two': 208,\n",
       " 'dad': 209,\n",
       " 'another': 210,\n",
       " 'around': 211,\n",
       " 'dog': 212,\n",
       " 'got': 213,\n",
       " '1': 214,\n",
       " 'million': 215,\n",
       " 'ever': 216,\n",
       " 'week': 217,\n",
       " 'baby': 218,\n",
       " 'debate': 219,\n",
       " 'thing': 220,\n",
       " 'them': 221,\n",
       " 'gun': 222,\n",
       " 'wants': 223,\n",
       " 'care': 224,\n",
       " 'us': 225,\n",
       " 'help': 226,\n",
       " 'much': 227,\n",
       " 'long': 228,\n",
       " 'night': 229,\n",
       " 'congress': 230,\n",
       " 'job': 231,\n",
       " 'finally': 232,\n",
       " 'north': 233,\n",
       " 'been': 234,\n",
       " 'under': 235,\n",
       " \"man's\": 236,\n",
       " 'actually': 237,\n",
       " 'star': 238,\n",
       " 'national': 239,\n",
       " 'live': 240,\n",
       " 'climate': 241,\n",
       " 'season': 242,\n",
       " 'money': 243,\n",
       " 'couple': 244,\n",
       " \"won't\": 245,\n",
       " '8': 246,\n",
       " '9': 247,\n",
       " 'top': 248,\n",
       " 'god': 249,\n",
       " 'anti': 250,\n",
       " 'media': 251,\n",
       " 'food': 252,\n",
       " 'ways': 253,\n",
       " '20': 254,\n",
       " 'shows': 255,\n",
       " 'sexual': 256,\n",
       " 'better': 257,\n",
       " 'give': 258,\n",
       " 'shooting': 259,\n",
       " 'had': 260,\n",
       " 'teen': 261,\n",
       " 'face': 262,\n",
       " 'making': 263,\n",
       " 'game': 264,\n",
       " 'paul': 265,\n",
       " 'reveals': 266,\n",
       " 'me': 267,\n",
       " 'trying': 268,\n",
       " 'senate': 269,\n",
       " 'supreme': 270,\n",
       " 'announces': 271,\n",
       " 'there': 272,\n",
       " 'away': 273,\n",
       " 'men': 274,\n",
       " 'history': 275,\n",
       " 'business': 276,\n",
       " 'bad': 277,\n",
       " 'without': 278,\n",
       " 'students': 279,\n",
       " 'everyone': 280,\n",
       " 'attack': 281,\n",
       " 'end': 282,\n",
       " 'story': 283,\n",
       " 'fight': 284,\n",
       " 'facebook': 285,\n",
       " 'son': 286,\n",
       " 'free': 287,\n",
       " 'children': 288,\n",
       " 'enough': 289,\n",
       " 'tv': 290,\n",
       " 'law': 291,\n",
       " 'movie': 292,\n",
       " 'city': 293,\n",
       " 'any': 294,\n",
       " 'introduces': 295,\n",
       " 'pope': 296,\n",
       " 'deal': 297,\n",
       " 'government': 298,\n",
       " 'body': 299,\n",
       " 'part': 300,\n",
       " 'york': 301,\n",
       " '11': 302,\n",
       " 'tell': 303,\n",
       " 'great': 304,\n",
       " 'film': 305,\n",
       " 'does': 306,\n",
       " 'former': 307,\n",
       " 'single': 308,\n",
       " 'entire': 309,\n",
       " 'friends': 310,\n",
       " 'fire': 311,\n",
       " 'call': 312,\n",
       " 'found': 313,\n",
       " 'friend': 314,\n",
       " 'book': 315,\n",
       " 'wedding': 316,\n",
       " 'think': 317,\n",
       " 'come': 318,\n",
       " 'republican': 319,\n",
       " 'must': 320,\n",
       " 'girl': 321,\n",
       " 'find': 322,\n",
       " 'second': 323,\n",
       " 'middle': 324,\n",
       " 'morning': 325,\n",
       " 'support': 326,\n",
       " 'same': 327,\n",
       " 'speech': 328,\n",
       " 'public': 329,\n",
       " 'photos': 330,\n",
       " 'use': 331,\n",
       " 'talk': 332,\n",
       " 'line': 333,\n",
       " 'car': 334,\n",
       " 'sanders': 335,\n",
       " 'name': 336,\n",
       " 'keep': 337,\n",
       " 'thinks': 338,\n",
       " 'run': 339,\n",
       " 'already': 340,\n",
       " 'looking': 341,\n",
       " 'presidential': 342,\n",
       " 'coming': 343,\n",
       " 'james': 344,\n",
       " 'republicans': 345,\n",
       " 'email': 346,\n",
       " \"didn't\": 347,\n",
       " 'tax': 348,\n",
       " 'pretty': 349,\n",
       " 'case': 350,\n",
       " 'company': 351,\n",
       " 'behind': 352,\n",
       " 'rights': 353,\n",
       " 'power': 354,\n",
       " 'open': 355,\n",
       " 'future': 356,\n",
       " 'marriage': 357,\n",
       " 'between': 358,\n",
       " 'releases': 359,\n",
       " 'violence': 360,\n",
       " 'christmas': 361,\n",
       " 'security': 362,\n",
       " '2016': 363,\n",
       " \"world's\": 364,\n",
       " 'used': 365,\n",
       " 'human': 366,\n",
       " 'killed': 367,\n",
       " 'voters': 368,\n",
       " 'once': 369,\n",
       " 'control': 370,\n",
       " 'goes': 371,\n",
       " 'group': 372,\n",
       " 'vote': 373,\n",
       " 'win': 374,\n",
       " 'might': 375,\n",
       " 'democrats': 376,\n",
       " 'student': 377,\n",
       " 'full': 378,\n",
       " 'something': 379,\n",
       " 'doing': 380,\n",
       " 'secret': 381,\n",
       " 'asks': 382,\n",
       " 'fans': 383,\n",
       " '12': 384,\n",
       " 'having': 385,\n",
       " 'team': 386,\n",
       " 'bernie': 387,\n",
       " 'department': 388,\n",
       " 'twitter': 389,\n",
       " 'room': 390,\n",
       " 'ban': 391,\n",
       " 'ad': 392,\n",
       " 'because': 393,\n",
       " 'poll': 394,\n",
       " 'teacher': 395,\n",
       " 'female': 396,\n",
       " 'post': 397,\n",
       " 'each': 398,\n",
       " 'wife': 399,\n",
       " 'inside': 400,\n",
       " 'ryan': 401,\n",
       " 'sure': 402,\n",
       " 'race': 403,\n",
       " 'claims': 404,\n",
       " 'music': 405,\n",
       " 'three': 406,\n",
       " 'meet': 407,\n",
       " 'record': 408,\n",
       " 'art': 409,\n",
       " 'forced': 410,\n",
       " 'boy': 411,\n",
       " '15': 412,\n",
       " 'missing': 413,\n",
       " 'many': 414,\n",
       " 'political': 415,\n",
       " 'unveils': 416,\n",
       " 'perfect': 417,\n",
       " 'head': 418,\n",
       " 'super': 419,\n",
       " 'very': 420,\n",
       " 'photo': 421,\n",
       " 'judge': 422,\n",
       " 'running': 423,\n",
       " 'reports': 424,\n",
       " 'red': 425,\n",
       " 'father': 426,\n",
       " 'save': 427,\n",
       " 'class': 428,\n",
       " 'scientists': 429,\n",
       " 'month': 430,\n",
       " 'plans': 431,\n",
       " 'days': 432,\n",
       " 'country': 433,\n",
       " 'person': 434,\n",
       " 'living': 435,\n",
       " 'tells': 436,\n",
       " 'social': 437,\n",
       " 'minutes': 438,\n",
       " 'put': 439,\n",
       " 'summer': 440,\n",
       " 'everything': 441,\n",
       " 'dies': 442,\n",
       " 'california': 443,\n",
       " 'always': 444,\n",
       " 'until': 445,\n",
       " 'obamacare': 446,\n",
       " 'states': 447,\n",
       " 'here': 448,\n",
       " 'pay': 449,\n",
       " 'ready': 450,\n",
       " 'texas': 451,\n",
       " 'were': 452,\n",
       " 'michael': 453,\n",
       " 'looks': 454,\n",
       " 'employee': 455,\n",
       " 'talks': 456,\n",
       " 'candidate': 457,\n",
       " 'needs': 458,\n",
       " 'did': 459,\n",
       " 'eating': 460,\n",
       " 'working': 461,\n",
       " 'water': 462,\n",
       " 'list': 463,\n",
       " 'justice': 464,\n",
       " 'secretary': 465,\n",
       " 'shot': 466,\n",
       " 'hot': 467,\n",
       " 'warns': 468,\n",
       " 'times': 469,\n",
       " 'comes': 470,\n",
       " 'past': 471,\n",
       " 'admits': 472,\n",
       " 'set': 473,\n",
       " 'start': 474,\n",
       " 'taking': 475,\n",
       " 'wall': 476,\n",
       " 'heart': 477,\n",
       " 'ceo': 478,\n",
       " 'ex': 479,\n",
       " 'thought': 480,\n",
       " \"'i\": 481,\n",
       " 'lives': 482,\n",
       " 'age': 483,\n",
       " 'left': 484,\n",
       " 'mike': 485,\n",
       " 'mother': 486,\n",
       " 'town': 487,\n",
       " 'gives': 488,\n",
       " '30': 489,\n",
       " 'let': 490,\n",
       " 'cruz': 491,\n",
       " \"women's\": 492,\n",
       " 'kim': 493,\n",
       " 'russia': 494,\n",
       " 'idea': 495,\n",
       " 'drug': 496,\n",
       " 'chief': 497,\n",
       " 'phone': 498,\n",
       " \"you're\": 499,\n",
       " 'cancer': 500,\n",
       " 'george': 501,\n",
       " 'crisis': 502,\n",
       " 'service': 503,\n",
       " 'biden': 504,\n",
       " 'wins': 505,\n",
       " 'hours': 506,\n",
       " \"i'm\": 507,\n",
       " 'letter': 508,\n",
       " 'wrong': 509,\n",
       " 'tips': 510,\n",
       " 'meeting': 511,\n",
       " 'south': 512,\n",
       " 'korea': 513,\n",
       " 'lost': 514,\n",
       " 'breaking': 515,\n",
       " 'daughter': 516,\n",
       " 'air': 517,\n",
       " '50': 518,\n",
       " 'probably': 519,\n",
       " 'young': 520,\n",
       " 'fbi': 521,\n",
       " 'street': 522,\n",
       " 'dream': 523,\n",
       " 'percent': 524,\n",
       " 'yet': 525,\n",
       " 'education': 526,\n",
       " 'isis': 527,\n",
       " 'romney': 528,\n",
       " 'word': 529,\n",
       " 'thousands': 530,\n",
       " 'restaurant': 531,\n",
       " 'small': 532,\n",
       " 'nuclear': 533,\n",
       " 'fucking': 534,\n",
       " 'kill': 535,\n",
       " 'today': 536,\n",
       " 'believe': 537,\n",
       " 'king': 538,\n",
       " 'tweets': 539,\n",
       " 'together': 540,\n",
       " 'half': 541,\n",
       " 'someone': 542,\n",
       " 'ted': 543,\n",
       " 'hard': 544,\n",
       " 'questions': 545,\n",
       " 'military': 546,\n",
       " 'march': 547,\n",
       " \"she's\": 548,\n",
       " 'few': 549,\n",
       " 'administration': 550,\n",
       " 'owner': 551,\n",
       " 'feel': 552,\n",
       " 'cat': 553,\n",
       " 'leaves': 554,\n",
       " 'fan': 555,\n",
       " 'internet': 556,\n",
       " 'officials': 557,\n",
       " 'third': 558,\n",
       " 'talking': 559,\n",
       " 'nothing': 560,\n",
       " 'director': 561,\n",
       " 'federal': 562,\n",
       " 'sleep': 563,\n",
       " 'chris': 564,\n",
       " 'rock': 565,\n",
       " 'place': 566,\n",
       " \"what's\": 567,\n",
       " 'washington': 568,\n",
       " 'guide': 569,\n",
       " 'online': 570,\n",
       " 'attacks': 571,\n",
       " 'muslim': 572,\n",
       " 'earth': 573,\n",
       " 'giving': 574,\n",
       " 'move': 575,\n",
       " 'lot': 576,\n",
       " 'florida': 577,\n",
       " 'ask': 578,\n",
       " 'iran': 579,\n",
       " 'latest': 580,\n",
       " 'series': 581,\n",
       " 'holiday': 582,\n",
       " 'congressman': 583,\n",
       " 'community': 584,\n",
       " 'abortion': 585,\n",
       " 'well': 586,\n",
       " 'order': 587,\n",
       " 'buy': 588,\n",
       " 'personal': 589,\n",
       " 'less': 590,\n",
       " 'months': 591,\n",
       " 'majority': 592,\n",
       " 'birthday': 593,\n",
       " 'hour': 594,\n",
       " 't': 595,\n",
       " 'prison': 596,\n",
       " '2015': 597,\n",
       " 'democratic': 598,\n",
       " 'outside': 599,\n",
       " 'problem': 600,\n",
       " 'leave': 601,\n",
       " 'assault': 602,\n",
       " 'those': 603,\n",
       " 'shit': 604,\n",
       " 'travel': 605,\n",
       " 'hollywood': 606,\n",
       " 'wearing': 607,\n",
       " 'beautiful': 608,\n",
       " 'girlfriend': 609,\n",
       " \"isn't\": 610,\n",
       " 'ice': 611,\n",
       " 'reason': 612,\n",
       " 'bar': 613,\n",
       " 'francis': 614,\n",
       " 'told': 615,\n",
       " 'different': 616,\n",
       " 'favorite': 617,\n",
       " 'issues': 618,\n",
       " 'cover': 619,\n",
       " 'rules': 620,\n",
       " 'rise': 621,\n",
       " 'happy': 622,\n",
       " 'fox': 623,\n",
       " 'fun': 624,\n",
       " 'special': 625,\n",
       " 'mark': 626,\n",
       " 'system': 627,\n",
       " 'read': 628,\n",
       " 'watching': 629,\n",
       " 'reasons': 630,\n",
       " 'girls': 631,\n",
       " 'straight': 632,\n",
       " 'play': 633,\n",
       " \"america's\": 634,\n",
       " 'al': 635,\n",
       " 'celebrates': 636,\n",
       " \"obama's\": 637,\n",
       " 'minute': 638,\n",
       " 'thinking': 639,\n",
       " 'hate': 640,\n",
       " 'excited': 641,\n",
       " 'relationship': 642,\n",
       " 'trip': 643,\n",
       " 'hit': 644,\n",
       " 'response': 645,\n",
       " 'huffpost': 646,\n",
       " 'knows': 647,\n",
       " 'russian': 648,\n",
       " 'immigration': 649,\n",
       " 'protest': 650,\n",
       " 'scott': 651,\n",
       " 'following': 652,\n",
       " '100': 653,\n",
       " 'using': 654,\n",
       " 'offers': 655,\n",
       " 'front': 656,\n",
       " 'message': 657,\n",
       " 'trailer': 658,\n",
       " 'stars': 659,\n",
       " 'leaders': 660,\n",
       " 'visit': 661,\n",
       " 'stephen': 662,\n",
       " 'hair': 663,\n",
       " 'huge': 664,\n",
       " 'box': 665,\n",
       " 'gift': 666,\n",
       " 'david': 667,\n",
       " 'union': 668,\n",
       " 'kind': 669,\n",
       " 'kid': 670,\n",
       " 'since': 671,\n",
       " 'moment': 672,\n",
       " 'china': 673,\n",
       " 'chinese': 674,\n",
       " 'birth': 675,\n",
       " 'non': 676,\n",
       " 'cop': 677,\n",
       " 'store': 678,\n",
       " 'lessons': 679,\n",
       " 'late': 680,\n",
       " 'hope': 681,\n",
       " 'accused': 682,\n",
       " 'taylor': 683,\n",
       " 'date': 684,\n",
       " 'career': 685,\n",
       " 'interview': 686,\n",
       " 'himself': 687,\n",
       " 'politics': 688,\n",
       " 'weekend': 689,\n",
       " 'called': 690,\n",
       " 'early': 691,\n",
       " 'victims': 692,\n",
       " 'least': 693,\n",
       " 'bring': 694,\n",
       " 'senator': 695,\n",
       " 'whole': 696,\n",
       " 'tom': 697,\n",
       " 'conversation': 698,\n",
       " 'adorable': 699,\n",
       " 'waiting': 700,\n",
       " 'jimmy': 701,\n",
       " 'break': 702,\n",
       " 'sports': 703,\n",
       " 'syria': 704,\n",
       " 'powerful': 705,\n",
       " 'drunk': 706,\n",
       " 'c': 707,\n",
       " 'point': 708,\n",
       " 'united': 709,\n",
       " 'leader': 710,\n",
       " 'anything': 711,\n",
       " 'become': 712,\n",
       " 'investigation': 713,\n",
       " 'opens': 714,\n",
       " 'learned': 715,\n",
       " 'words': 716,\n",
       " 'millions': 717,\n",
       " 'k': 718,\n",
       " 'die': 719,\n",
       " 'fashion': 720,\n",
       " 'cops': 721,\n",
       " \"they're\": 722,\n",
       " 'reality': 723,\n",
       " 'billion': 724,\n",
       " 'fall': 725,\n",
       " 'key': 726,\n",
       " 'true': 727,\n",
       " 'host': 728,\n",
       " 'returns': 729,\n",
       " 'joe': 730,\n",
       " 'totally': 731,\n",
       " 'syrian': 732,\n",
       " 'killing': 733,\n",
       " 'massive': 734,\n",
       " '40': 735,\n",
       " 'almost': 736,\n",
       " 'turn': 737,\n",
       " 'breaks': 738,\n",
       " 'driving': 739,\n",
       " 'mass': 740,\n",
       " 'global': 741,\n",
       " 'dating': 742,\n",
       " 'far': 743,\n",
       " 'policy': 744,\n",
       " 'schools': 745,\n",
       " 'stand': 746,\n",
       " 'trans': 747,\n",
       " 'dinner': 748,\n",
       " 'oil': 749,\n",
       " 'apple': 750,\n",
       " 'un': 751,\n",
       " 'awards': 752,\n",
       " 'queer': 753,\n",
       " 'worried': 754,\n",
       " 'kills': 755,\n",
       " 'iraq': 756,\n",
       " 'low': 757,\n",
       " 'song': 758,\n",
       " 'dance': 759,\n",
       " 'turns': 760,\n",
       " 'puts': 761,\n",
       " 'spends': 762,\n",
       " 'stage': 763,\n",
       " 'sign': 764,\n",
       " 'candidates': 765,\n",
       " 'j': 766,\n",
       " 'vows': 767,\n",
       " 'risk': 768,\n",
       " 'bus': 769,\n",
       " 'names': 770,\n",
       " 'final': 771,\n",
       " 'planned': 772,\n",
       " 'feels': 773,\n",
       " 'anniversary': 774,\n",
       " 'lgbt': 775,\n",
       " 'signs': 776,\n",
       " 'jr': 777,\n",
       " 'murder': 778,\n",
       " 'seen': 779,\n",
       " 'prince': 780,\n",
       " 'reportedly': 781,\n",
       " 'hits': 782,\n",
       " 'light': 783,\n",
       " 'sick': 784,\n",
       " 'adds': 785,\n",
       " 'crash': 786,\n",
       " 'd': 787,\n",
       " 'worst': 788,\n",
       " 'surprise': 789,\n",
       " 'hands': 790,\n",
       " 'near': 791,\n",
       " 'transgender': 792,\n",
       " 'weird': 793,\n",
       " 'nfl': 794,\n",
       " 'return': 795,\n",
       " 'moving': 796,\n",
       " \"there's\": 797,\n",
       " 'pence': 798,\n",
       " 'mind': 799,\n",
       " 'center': 800,\n",
       " 'decision': 801,\n",
       " 'longer': 802,\n",
       " 'workers': 803,\n",
       " 'advice': 804,\n",
       " 'worth': 805,\n",
       " 'eat': 806,\n",
       " 'struggling': 807,\n",
       " 'discover': 808,\n",
       " 'oscar': 809,\n",
       " 'across': 810,\n",
       " 'style': 811,\n",
       " 'kardashian': 812,\n",
       " 'employees': 813,\n",
       " 'test': 814,\n",
       " '13': 815,\n",
       " 'cut': 816,\n",
       " 'keeps': 817,\n",
       " 'band': 818,\n",
       " 'industry': 819,\n",
       " 'experience': 820,\n",
       " 'side': 821,\n",
       " 'coffee': 822,\n",
       " 'check': 823,\n",
       " '2014': 824,\n",
       " 'number': 825,\n",
       " 'rubio': 826,\n",
       " 'brings': 827,\n",
       " 'door': 828,\n",
       " 'lead': 829,\n",
       " 'five': 830,\n",
       " 'completely': 831,\n",
       " 'hoping': 832,\n",
       " 'hand': 833,\n",
       " 'university': 834,\n",
       " '2017': 835,\n",
       " 'official': 836,\n",
       " 'starting': 837,\n",
       " 'lose': 838,\n",
       " 'whether': 839,\n",
       " 'force': 840,\n",
       " 'paris': 841,\n",
       " 'weight': 842,\n",
       " 'road': 843,\n",
       " 'space': 844,\n",
       " 'west': 845,\n",
       " 'audience': 846,\n",
       " 'important': 847,\n",
       " 'steve': 848,\n",
       " 'playing': 849,\n",
       " 'reform': 850,\n",
       " 'cool': 851,\n",
       " 'fighting': 852,\n",
       " 'suspect': 853,\n",
       " 'given': 854,\n",
       " 'defense': 855,\n",
       " 'program': 856,\n",
       " 'artist': 857,\n",
       " 'nyc': 858,\n",
       " 'williams': 859,\n",
       " 'role': 860,\n",
       " 'building': 861,\n",
       " 'michelle': 862,\n",
       " 'peace': 863,\n",
       " 'carolina': 864,\n",
       " 'remember': 865,\n",
       " 'chicago': 866,\n",
       " 'act': 867,\n",
       " 'pro': 868,\n",
       " 'possible': 869,\n",
       " 'apartment': 870,\n",
       " 'governor': 871,\n",
       " 'iowa': 872,\n",
       " 'executive': 873,\n",
       " 'success': 874,\n",
       " 'data': 875,\n",
       " 'chance': 876,\n",
       " 'ferguson': 877,\n",
       " 'amazon': 878,\n",
       " 'biggest': 879,\n",
       " 'protesters': 880,\n",
       " 'suicide': 881,\n",
       " 'hall': 882,\n",
       " 'abuse': 883,\n",
       " 'which': 884,\n",
       " 'clearly': 885,\n",
       " 'major': 886,\n",
       " 'push': 887,\n",
       " 'hurricane': 888,\n",
       " 'moore': 889,\n",
       " 'allegations': 890,\n",
       " 'halloween': 891,\n",
       " 'oscars': 892,\n",
       " 'homeless': 893,\n",
       " 'israel': 894,\n",
       " 'general': 895,\n",
       " 'mental': 896,\n",
       " 'coworker': 897,\n",
       " 'moms': 898,\n",
       " 'board': 899,\n",
       " 'close': 900,\n",
       " 'magazine': 901,\n",
       " 'question': 902,\n",
       " 'ben': 903,\n",
       " 'hear': 904,\n",
       " 'demands': 905,\n",
       " 'fear': 906,\n",
       " 'wishes': 907,\n",
       " 'opening': 908,\n",
       " 'members': 909,\n",
       " 'celebrate': 910,\n",
       " 'supporters': 911,\n",
       " 'google': 912,\n",
       " 'football': 913,\n",
       " 'voice': 914,\n",
       " 'easy': 915,\n",
       " 'teens': 916,\n",
       " 'card': 917,\n",
       " 'kerry': 918,\n",
       " 'wait': 919,\n",
       " 'try': 920,\n",
       " 'throws': 921,\n",
       " 'tour': 922,\n",
       " 'pregnant': 923,\n",
       " 'pizza': 924,\n",
       " 'dying': 925,\n",
       " 'press': 926,\n",
       " 'chicken': 927,\n",
       " 'urges': 928,\n",
       " 'reveal': 929,\n",
       " 'simple': 930,\n",
       " 'green': 931,\n",
       " 'economy': 932,\n",
       " 'problems': 933,\n",
       " 'culture': 934,\n",
       " 'lgbtq': 935,\n",
       " 'asking': 936,\n",
       " 'ebola': 937,\n",
       " 'robert': 938,\n",
       " 'learn': 939,\n",
       " 'performance': 940,\n",
       " 'album': 941,\n",
       " 'church': 942,\n",
       " 'begins': 943,\n",
       " 'officer': 944,\n",
       " 'shop': 945,\n",
       " 'poor': 946,\n",
       " 'uses': 947,\n",
       " 'plane': 948,\n",
       " 'families': 949,\n",
       " 'harassment': 950,\n",
       " 'picture': 951,\n",
       " 'jobs': 952,\n",
       " 'fails': 953,\n",
       " 'sean': 954,\n",
       " 'voter': 955,\n",
       " 'beauty': 956,\n",
       " 'demand': 957,\n",
       " 'doctor': 958,\n",
       " \"we're\": 959,\n",
       " 'spot': 960,\n",
       " 'shares': 961,\n",
       " 'leads': 962,\n",
       " 'hilarious': 963,\n",
       " 'suggests': 964,\n",
       " 'rally': 965,\n",
       " 'results': 966,\n",
       " 'ideas': 967,\n",
       " '18': 968,\n",
       " 'jenner': 969,\n",
       " 'arrested': 970,\n",
       " 'male': 971,\n",
       " 'fuck': 972,\n",
       " 'leaving': 973,\n",
       " 'address': 974,\n",
       " 'rest': 975,\n",
       " 'receives': 976,\n",
       " 'amid': 977,\n",
       " 'epa': 978,\n",
       " 'deadly': 979,\n",
       " 'netflix': 980,\n",
       " 'desperate': 981,\n",
       " 'planet': 982,\n",
       " 'cnn': 983,\n",
       " 'marijuana': 984,\n",
       " 'quietly': 985,\n",
       " 'action': 986,\n",
       " 'website': 987,\n",
       " 'pick': 988,\n",
       " 'explains': 989,\n",
       " 'table': 990,\n",
       " 'energy': 991,\n",
       " 'users': 992,\n",
       " 'feeling': 993,\n",
       " 'sales': 994,\n",
       " 'colbert': 995,\n",
       " 'apparently': 996,\n",
       " \"let's\": 997,\n",
       " 'amazing': 998,\n",
       " 'went': 999,\n",
       " 'budget': 1000,\n",
       " ...}"
      ]
     },
     "execution_count": 27,
     "metadata": {
      "tags": []
     },
     "output_type": "execute_result"
    }
   ],
   "source": [
    "word_index=tokenizer.word_index\n",
    "word_index"
   ]
  },
  {
   "cell_type": "markdown",
   "metadata": {
    "colab_type": "text",
    "id": "cAB7Y6IN5ydK"
   },
   "source": [
    "From the above we can see all the words have been given a unique index"
   ]
  },
  {
   "cell_type": "code",
   "execution_count": 28,
   "metadata": {
    "colab": {
     "base_uri": "https://localhost:8080/",
     "height": 34
    },
    "colab_type": "code",
    "id": "SsdEAXYt36hC",
    "outputId": "60fe0527-208c-4cac-d512-88ac83954a22"
   },
   "outputs": [
    {
     "data": {
      "text/plain": [
       "array([0, 0, 1, ..., 0, 0, 0])"
      ]
     },
     "execution_count": 28,
     "metadata": {
      "tags": []
     },
     "output_type": "execute_result"
    }
   ],
   "source": [
    "y"
   ]
  },
  {
   "cell_type": "code",
   "execution_count": 29,
   "metadata": {
    "colab": {
     "base_uri": "https://localhost:8080/",
     "height": 85
    },
    "colab_type": "code",
    "id": "cLVnENvv4mwv",
    "outputId": "2b55d3ff-bf05-47b2-a7f5-1ec88dfbc83b"
   },
   "outputs": [
    {
     "data": {
      "text/plain": [
       "array([   0,    0,    0,    0,    0,    0,    0,    0,    0,    0,    0,\n",
       "          0,    0,    0,    0,    0,    0,    0,    0,    0,    0,    0,\n",
       "          0,    0,    0,    0,    0,    0,    0,  307,  678, 3336, 2297,\n",
       "         47,  381, 2575,    5, 2576, 8433], dtype=int32)"
      ]
     },
     "execution_count": 29,
     "metadata": {
      "tags": []
     },
     "output_type": "execute_result"
    }
   ],
   "source": [
    "# Padding in order to bring all sentece of equal length.\n",
    "X_pad=pad_sequences(X,maxlen=max_len)\n",
    "X_pad[0]"
   ]
  },
  {
   "cell_type": "markdown",
   "metadata": {
    "colab_type": "text",
    "id": "N93qRell7F3X"
   },
   "source": [
    "The above represent vector representation of the 1st sentence"
   ]
  },
  {
   "cell_type": "code",
   "execution_count": 30,
   "metadata": {
    "colab": {
     "base_uri": "https://localhost:8080/",
     "height": 51
    },
    "colab_type": "code",
    "id": "e4fWYHkG5kuh",
    "outputId": "eeeccdf1-6ead-4ce2-cc56-3e5d252796aa"
   },
   "outputs": [
    {
     "name": "stdout",
     "output_type": "stream",
     "text": [
      "Number of Samples : 26709\n",
      "Number of labels : 26709\n"
     ]
    }
   ],
   "source": [
    "print('Number of Samples :',len(X_pad))\n",
    "print('Number of labels :',len(y))"
   ]
  },
  {
   "cell_type": "markdown",
   "metadata": {
    "colab_type": "text",
    "id": "IZLk1khg68IC"
   },
   "source": [
    "### Getting the vocabulary size"
   ]
  },
  {
   "cell_type": "code",
   "execution_count": 31,
   "metadata": {
    "colab": {
     "base_uri": "https://localhost:8080/",
     "height": 34
    },
    "colab_type": "code",
    "id": "9Xvevn_E6353",
    "outputId": "82ff0e6b-b9d5-4b72-c7f3-a55a830f53ee"
   },
   "outputs": [
    {
     "data": {
      "text/plain": [
       "29657"
      ]
     },
     "execution_count": 31,
     "metadata": {
      "tags": []
     },
     "output_type": "execute_result"
    }
   ],
   "source": [
    "# Embedding Layer creates one more vector for \"UNKNOWN\" words, or padded words (0s). This Vector is filled with zeros.Thus our vocab size increases by 1\n",
    "\n",
    "vocab_size=len(tokenizer.word_index)+1\n",
    "vocab_size"
   ]
  },
  {
   "cell_type": "markdown",
   "metadata": {
    "colab_type": "text",
    "id": "mDA6Ts0a7WaV"
   },
   "source": [
    "# (8)Splitting the dataset"
   ]
  },
  {
   "cell_type": "code",
   "execution_count": 32,
   "metadata": {
    "colab": {},
    "colab_type": "code",
    "id": "c-YyJQqttAUt"
   },
   "outputs": [],
   "source": [
    "from sklearn.model_selection import train_test_split\n",
    "X_train,X_test,y_train,y_test=train_test_split(X_pad,y,test_size=0.2,random_state=2)"
   ]
  },
  {
   "cell_type": "code",
   "execution_count": 33,
   "metadata": {
    "colab": {
     "base_uri": "https://localhost:8080/",
     "height": 85
    },
    "colab_type": "code",
    "id": "RITa6-EWzWUq",
    "outputId": "a0ef0288-e85d-4455-81a3-790f4a1ff865"
   },
   "outputs": [
    {
     "name": "stdout",
     "output_type": "stream",
     "text": [
      "X_train shape : (21367, 39)\n",
      "X_test shape : (5342, 39)\n",
      "y_train shape : (21367,)\n",
      "y_test shape : (5342,)\n"
     ]
    }
   ],
   "source": [
    "print('X_train shape :',X_train.shape)\n",
    "print('X_test shape :',X_test.shape)\n",
    "print('y_train shape :',y_train.shape)\n",
    "print('y_test shape :',y_test.shape)"
   ]
  },
  {
   "cell_type": "markdown",
   "metadata": {
    "colab_type": "text",
    "id": "Uy2HtIqG9W9p"
   },
   "source": [
    "# (9)Word Embedding"
   ]
  },
  {
   "cell_type": "markdown",
   "metadata": {
    "colab_type": "text",
    "id": "ZpTdYwpSazav"
   },
   "source": [
    "Word embedding is one of the most popular representation of document vocabulary. It is capable of capturing context of a word in a document, semantic and syntactic similarity, relation with other words, etc. "
   ]
  },
  {
   "cell_type": "code",
   "execution_count": 34,
   "metadata": {
    "colab": {},
    "colab_type": "code",
    "id": "KAq0sQyB9fp1"
   },
   "outputs": [],
   "source": [
    "glove_file= \"glove.6B.zip\"\n",
    "from zipfile import ZipFile\n",
    "with ZipFile(glove_file,'r') as z:\n",
    "  z.extractall()\n",
    "  z.close()\n"
   ]
  },
  {
   "cell_type": "markdown",
   "metadata": {
    "colab_type": "text",
    "id": "Cfe-0V9x_ZZW"
   },
   "source": [
    "### Getting the Glove Word Embeddings "
   ]
  },
  {
   "cell_type": "code",
   "execution_count": 35,
   "metadata": {
    "colab": {},
    "colab_type": "code",
    "id": "GIDNUjio_MBx"
   },
   "outputs": [],
   "source": [
    "EMBEDDING_FILE = './glove.6B.200d.txt'\n",
    "#By opening the txt file we can see that at index 0 we have word and from index 1 to last its vector representation is given\n",
    "\n",
    "embeddings = {}\n",
    "for o in open(EMBEDDING_FILE):\n",
    "    word = o.split(\" \")[0]\n",
    "    #print(word)\n",
    "    embd = o.split(\" \")[1:]\n",
    "    embd = np.asarray(embd, dtype='float32')\n",
    "    #print(embd)\n",
    "    embeddings[word] = embd\n"
   ]
  },
  {
   "cell_type": "markdown",
   "metadata": {
    "colab_type": "text",
    "id": "nhUx7EgS9MVA"
   },
   "source": [
    "Let see given glove word embedding for one word"
   ]
  },
  {
   "cell_type": "code",
   "execution_count": 36,
   "metadata": {
    "colab": {
     "base_uri": "https://localhost:8080/",
     "height": 612
    },
    "colab_type": "code",
    "id": "2sT_9lqhrw1V",
    "outputId": "582a0daf-76a6-45e7-d789-d9ad1a5da74c"
   },
   "outputs": [
    {
     "name": "stdout",
     "output_type": "stream",
     "text": [
      "[ 5.7346e-01  5.4170e-01 -2.3477e-01 -3.6240e-01  4.0370e-01  1.1386e-01\n",
      " -4.4933e-01 -3.0991e-01 -5.3411e-03  5.8426e-01 -2.5956e-02  4.9393e-01\n",
      " -3.7209e-02 -2.8428e-01  9.7696e-02 -4.8907e-01  2.6027e-02  3.7649e-01\n",
      "  5.7788e-02 -4.6807e-01  8.1288e-02  3.2825e+00 -6.3690e-01  3.7956e-01\n",
      "  3.8167e-03  9.3607e-02 -1.2855e-01  1.7380e-01  1.0522e-01  2.8648e-01\n",
      "  2.1089e-01 -4.7076e-01  2.7733e-02 -1.9803e-01  7.6328e-02 -8.4629e-01\n",
      " -7.9708e-01 -3.8743e-01 -3.0422e-02 -2.6849e-01  4.8585e-01  1.2895e-01\n",
      "  3.8354e-01  3.8722e-01 -3.8524e-01  1.9075e-01  4.8998e-01  1.3278e-01\n",
      "  1.0792e-02  2.6770e-01  1.7812e-01 -1.1433e-01 -3.3494e-01  8.7306e-01\n",
      "  7.5875e-01 -3.0378e-01 -1.5626e-01  1.2085e-03  2.3322e-01  2.7953e-01\n",
      " -1.8494e-01 -1.4146e-01 -1.8969e-01 -3.8386e-02  3.5874e-01  6.5513e-02\n",
      "  6.0565e-02  6.6339e-01 -8.3252e-02  6.5163e-02  5.1761e-01  1.6171e-01\n",
      "  4.6011e-01  1.6388e-01 -1.2399e-01  3.1122e-01 -1.5412e-01 -1.0917e-01\n",
      " -4.2551e-01  1.1418e-01  2.5137e-01 -5.6158e-02 -2.5927e-01  2.8163e-01\n",
      " -1.8094e-02  1.6065e-01 -4.8506e-01 -9.8903e-01  2.5022e-01 -1.6736e-01\n",
      "  4.1474e-01  1.7701e-01  4.2407e-01  1.1088e-01 -1.8360e-01 -1.2410e-01\n",
      " -3.4780e-01  9.9078e-02 -2.2381e-01 -1.1245e-01 -2.1156e-01  3.0706e-03\n",
      " -2.3607e-01  2.7261e-02  3.6430e-01  3.9922e-02 -1.8369e-01  1.2266e+00\n",
      " -7.7640e-01 -6.6225e-01  1.5724e-02 -1.4969e-01  8.4649e-02  2.6814e-01\n",
      " -1.6765e-01 -3.1942e-01  2.8494e-01 -7.0000e-02  1.2010e-02 -1.2219e-01\n",
      "  5.6310e-01 -3.2000e-01  5.0109e-01 -1.0209e-01  4.6575e-01 -7.1542e-01\n",
      "  1.7293e-01  5.8259e-01  7.8384e-02 -3.3844e-02 -2.5129e-01  3.6503e-01\n",
      "  3.1578e-02 -6.5778e-01  5.4750e-02  8.7189e-01  1.2455e-01 -4.5877e-01\n",
      " -2.6965e-01 -4.6779e-01 -2.8578e-03  1.7810e-01  6.3969e-01  1.3995e-01\n",
      "  9.7596e-01  1.1836e-01 -6.3904e-01 -1.5416e-01  6.5262e-02  2.4329e-01\n",
      "  6.6476e-01  2.5069e-01 -1.0252e-01 -3.2839e-01 -8.5559e-02 -1.2774e-02\n",
      " -1.9431e-01  5.6139e-01 -3.5733e-01 -2.0344e-01 -1.2413e-01 -3.4431e-01\n",
      " -2.3296e-01 -2.1187e-01  8.5387e-02  7.0063e-02 -1.9803e-01 -2.6023e-02\n",
      " -3.9037e-01  8.0002e-01  4.0577e-01 -7.9863e-02  3.5263e-01 -3.4043e-01\n",
      "  3.9676e-01  2.2862e-01 -3.5028e-01 -4.7344e-01  5.9742e-01 -1.1657e-01\n",
      "  1.0552e+00 -4.1570e-01 -8.0552e-02 -5.6571e-02 -1.6622e-01  1.9274e-01\n",
      " -9.5175e-02 -2.0781e-01  1.5620e-01  5.0231e-02 -2.7915e-01  4.3742e-01\n",
      " -3.1237e-01  1.3194e-01 -3.3278e-01  1.8877e-01 -2.3422e-01  5.4418e-01\n",
      " -2.3069e-01  3.4947e-01]\n",
      "length is : 200\n"
     ]
    }
   ],
   "source": [
    "print(embeddings['to'])\n",
    "#embeddings.get('to')\n",
    "print('length is :',len(embeddings['to']))"
   ]
  },
  {
   "cell_type": "markdown",
   "metadata": {
    "colab_type": "text",
    "id": "LUB54LTq9oZo"
   },
   "source": [
    "From above we can clearly see how a word is represented in 200 dimenesions"
   ]
  },
  {
   "cell_type": "code",
   "execution_count": 37,
   "metadata": {
    "colab": {
     "base_uri": "https://localhost:8080/",
     "height": 34
    },
    "colab_type": "code",
    "id": "ssaIOFLW_npv",
    "outputId": "9ead2a98-c755-4127-8ae5-7c4e1311f36d"
   },
   "outputs": [
    {
     "data": {
      "text/plain": [
       "400000"
      ]
     },
     "execution_count": 37,
     "metadata": {
      "tags": []
     },
     "output_type": "execute_result"
    }
   ],
   "source": [
    "embedding_matrix = np.zeros((vocab_size, 200))\n",
    "\n",
    "for word, i in tokenizer.word_index.items():\n",
    "  if i<vocab_size:\n",
    "    embedding_vector = embeddings.get(word)\n",
    "    if embedding_vector is not None:\n",
    "        embedding_matrix[i] = embedding_vector\n",
    "\n",
    "len(embeddings.values())"
   ]
  },
  {
   "cell_type": "markdown",
   "metadata": {
    "colab_type": "text",
    "id": "xw1rTZ8yAb3H"
   },
   "source": [
    "# (10)Model Creation\n",
    "\n"
   ]
  },
  {
   "cell_type": "code",
   "execution_count": 38,
   "metadata": {
    "colab": {
     "base_uri": "https://localhost:8080/",
     "height": 34
    },
    "colab_type": "code",
    "id": "CK4Y8tOR-vCQ",
    "outputId": "eb4097b5-6270-44bf-f519-c99d8dba2b20"
   },
   "outputs": [
    {
     "name": "stderr",
     "output_type": "stream",
     "text": [
      "Using TensorFlow backend.\n"
     ]
    }
   ],
   "source": [
    "# Importing necessary libraries\n",
    "\n",
    "from keras.models import Sequential\n",
    "from keras.layers import SimpleRNN,LSTM,Bidirectional,GRU\n",
    "from keras.layers import Embedding, Flatten, Dense,Dropout"
   ]
  },
  {
   "cell_type": "markdown",
   "metadata": {
    "colab_type": "text",
    "id": "SFvtI2Nr_bwy"
   },
   "source": [
    "## (i)Model without RNN"
   ]
  },
  {
   "cell_type": "code",
   "execution_count": 39,
   "metadata": {
    "colab": {
     "base_uri": "https://localhost:8080/",
     "height": 204
    },
    "colab_type": "code",
    "id": "M-djqAmo-nnR",
    "outputId": "f19931d6-04f6-45f2-bf64-42960ff3aeb2"
   },
   "outputs": [
    {
     "name": "stdout",
     "output_type": "stream",
     "text": [
      "Train on 21367 samples, validate on 5342 samples\n",
      "Epoch 1/5\n",
      "21367/21367 [==============================] - 4s 200us/step - loss: 0.5543 - acc: 0.7051 - val_loss: 0.3987 - val_acc: 0.8267\n",
      "Epoch 2/5\n",
      "21367/21367 [==============================] - 2s 108us/step - loss: 0.3443 - acc: 0.8551 - val_loss: 0.3342 - val_acc: 0.8575\n",
      "Epoch 3/5\n",
      "21367/21367 [==============================] - 2s 109us/step - loss: 0.2376 - acc: 0.9103 - val_loss: 0.3361 - val_acc: 0.8654\n",
      "Epoch 4/5\n",
      "21367/21367 [==============================] - 2s 109us/step - loss: 0.1618 - acc: 0.9408 - val_loss: 0.3688 - val_acc: 0.8611\n",
      "Epoch 5/5\n",
      "21367/21367 [==============================] - 2s 109us/step - loss: 0.1018 - acc: 0.9663 - val_loss: 0.4599 - val_acc: 0.8566\n"
     ]
    }
   ],
   "source": [
    "model_0=Sequential()\n",
    "\n",
    "#Embedding layer\n",
    "model_0.add(Embedding(input_dim=vocab_size,output_dim=200,input_length=max_len,weights=[embedding_matrix]))\n",
    "model_0.add(Flatten())\n",
    "#Fully connected layer\n",
    "model_0.add(Dense(16,activation='relu'))\n",
    "#Dropout for regularization\n",
    "model_0.add(Dropout(0.5))\n",
    "#Output layer\n",
    "model_0.add(Dense(1,activation='sigmoid'))\n",
    "\n",
    "model_0.compile(optimizer='adam',loss='binary_crossentropy',metrics=['acc'])\n",
    "history_0=model_0.fit(X_train,y_train,epochs=5,batch_size=100,validation_data=(X_test,y_test))"
   ]
  },
  {
   "cell_type": "code",
   "execution_count": 40,
   "metadata": {
    "colab": {
     "base_uri": "https://localhost:8080/",
     "height": 68
    },
    "colab_type": "code",
    "id": "exLymWot_qSX",
    "outputId": "fc54026f-4ba2-4fbb-8ae0-14eabc7a3499"
   },
   "outputs": [
    {
     "name": "stdout",
     "output_type": "stream",
     "text": [
      "5342/5342 [==============================] - 0s 67us/step\n",
      "Test loss:  0.4598687316696548\n",
      "Test accuracy:  0.8566080331802368\n"
     ]
    }
   ],
   "source": [
    "results_0= model_0.evaluate(X_test, y_test)\n",
    "print('Test loss: ', results_0[0])\n",
    "print('Test accuracy: ', results_0[1])"
   ]
  },
  {
   "cell_type": "markdown",
   "metadata": {
    "colab_type": "text",
    "id": "VytCpyFUBceA"
   },
   "source": [
    "# (ii)Model with simple RNN"
   ]
  },
  {
   "cell_type": "code",
   "execution_count": 41,
   "metadata": {
    "colab": {},
    "colab_type": "code",
    "id": "jXLQ-KrrAFUO"
   },
   "outputs": [],
   "source": [
    "from keras.models import Sequential\n",
    "from keras.layers import SimpleRNN,LSTM,Bidirectional,GRU\n",
    "from keras.layers import Embedding, Flatten, Dense,Dropout\n",
    "model_1=Sequential()\n",
    "#Embedding layer\n",
    "model_1.add(Embedding(input_dim=vocab_size,output_dim=200,input_length=max_len,weights=[embedding_matrix]))\n",
    "model_1.add(SimpleRNN(32))\n",
    "#Fully connected layer\n",
    "model_1.add(Dense(16,activation='relu'))\n",
    "#Dropout for regularization\n",
    "model_1.add(Dropout(0.5))\n",
    "#Output layer\n",
    "model_1.add(Dense(1,activation='sigmoid'))"
   ]
  },
  {
   "cell_type": "code",
   "execution_count": 42,
   "metadata": {
    "colab": {
     "base_uri": "https://localhost:8080/",
     "height": 323
    },
    "colab_type": "code",
    "id": "nLH7Llgvv-rC",
    "outputId": "fd85905d-9a52-499c-f0ae-5ccd532cdf94"
   },
   "outputs": [
    {
     "name": "stdout",
     "output_type": "stream",
     "text": [
      "Model: \"sequential_2\"\n",
      "_________________________________________________________________\n",
      "Layer (type)                 Output Shape              Param #   \n",
      "=================================================================\n",
      "embedding_2 (Embedding)      (None, 39, 200)           5931400   \n",
      "_________________________________________________________________\n",
      "simple_rnn_1 (SimpleRNN)     (None, 32)                7456      \n",
      "_________________________________________________________________\n",
      "dense_3 (Dense)              (None, 16)                528       \n",
      "_________________________________________________________________\n",
      "dropout_2 (Dropout)          (None, 16)                0         \n",
      "_________________________________________________________________\n",
      "dense_4 (Dense)              (None, 1)                 17        \n",
      "=================================================================\n",
      "Total params: 5,939,401\n",
      "Trainable params: 5,939,401\n",
      "Non-trainable params: 0\n",
      "_________________________________________________________________\n"
     ]
    }
   ],
   "source": [
    "model_1.summary()"
   ]
  },
  {
   "cell_type": "code",
   "execution_count": 43,
   "metadata": {
    "colab": {},
    "colab_type": "code",
    "id": "VfS6npkSBYB6"
   },
   "outputs": [],
   "source": [
    "#compile the model\n",
    "model_1.compile(optimizer='adam',loss='binary_crossentropy',metrics=['acc'])"
   ]
  },
  {
   "cell_type": "code",
   "execution_count": 44,
   "metadata": {
    "colab": {
     "base_uri": "https://localhost:8080/",
     "height": 204
    },
    "colab_type": "code",
    "id": "jMQLFjdfBaEg",
    "outputId": "3626adb0-eae3-4164-f833-b065771a641b"
   },
   "outputs": [
    {
     "name": "stdout",
     "output_type": "stream",
     "text": [
      "Train on 21367 samples, validate on 5342 samples\n",
      "Epoch 1/5\n",
      "21367/21367 [==============================] - 11s 522us/step - loss: 0.6435 - acc: 0.6113 - val_loss: 0.4960 - val_acc: 0.7737\n",
      "Epoch 2/5\n",
      "21367/21367 [==============================] - 11s 508us/step - loss: 0.4101 - acc: 0.8265 - val_loss: 0.3493 - val_acc: 0.8551\n",
      "Epoch 3/5\n",
      "21367/21367 [==============================] - 11s 502us/step - loss: 0.2825 - acc: 0.8951 - val_loss: 0.3990 - val_acc: 0.8319\n",
      "Epoch 4/5\n",
      "21367/21367 [==============================] - 11s 515us/step - loss: 0.2157 - acc: 0.9225 - val_loss: 0.3751 - val_acc: 0.8538\n",
      "Epoch 5/5\n",
      "21367/21367 [==============================] - 11s 502us/step - loss: 0.1480 - acc: 0.9527 - val_loss: 0.4093 - val_acc: 0.8605\n"
     ]
    }
   ],
   "source": [
    "history_1=model_1.fit(X_train,y_train,epochs=5,batch_size=100,validation_data=(X_test,y_test))"
   ]
  },
  {
   "cell_type": "code",
   "execution_count": 45,
   "metadata": {
    "colab": {
     "base_uri": "https://localhost:8080/",
     "height": 68
    },
    "colab_type": "code",
    "id": "37TEke4iCAnP",
    "outputId": "5ee65149-d34c-457c-92f8-82319da71cc5"
   },
   "outputs": [
    {
     "name": "stdout",
     "output_type": "stream",
     "text": [
      "5342/5342 [==============================] - 1s 178us/step\n",
      "Test loss:  0.4093302488550181\n",
      "Test accuracy:  0.8605391383171082\n"
     ]
    }
   ],
   "source": [
    "results_1= model_1.evaluate(X_test, y_test)\n",
    "print('Test loss: ', results_1[0])\n",
    "print('Test accuracy: ', results_1[1])"
   ]
  },
  {
   "cell_type": "code",
   "execution_count": 46,
   "metadata": {
    "colab": {
     "base_uri": "https://localhost:8080/",
     "height": 516
    },
    "colab_type": "code",
    "id": "nPTkO-Xi_N27",
    "outputId": "6ec9dd48-b00e-4b4d-fb50-366cd98fc473"
   },
   "outputs": [
    {
     "data": {
      "text/plain": [
       "Text(0.5, 1.0, 'Epochs vs. Training and Validation Loss')"
      ]
     },
     "execution_count": 46,
     "metadata": {
      "tags": []
     },
     "output_type": "execute_result"
    },
    {
     "data": {
      "image/png": "[encoded data removed]",
      "text/plain": [
       "<Figure size 1440x576 with 2 Axes>"
      ]
     },
     "metadata": {
      "needs_background": "light",
      "tags": []
     },
     "output_type": "display_data"
    }
   ],
   "source": [
    "import matplotlib.pyplot as plt\n",
    "train_acc=history_1.history['acc']\n",
    "valid_acc=history_1.history['val_acc']\n",
    "\n",
    "train_loss=history_1.history['loss']\n",
    "valid_loss=history_1.history['val_loss']\n",
    "\n",
    "epochs=range(1,len(train_acc)+1)\n",
    "\n",
    "plt.figure(figsize=(20,8))\n",
    "plt.subplot(1,2,1)\n",
    "plt.plot(epochs,train_acc,label='Training Accuracy')\n",
    "plt.plot(epochs,valid_acc,label='Validation Accuracy')\n",
    "plt.legend()\n",
    "plt.title('Epochs vs. Training and Validation Accuracy')\n",
    "\n",
    "plt.subplot(1,2,2)\n",
    "plt.plot(epochs,train_loss,label='Training Loss')\n",
    "plt.plot(epochs,valid_loss,label='Validattion Loss')\n",
    "plt.legend()\n",
    "plt.title('Epochs vs. Training and Validation Loss')"
   ]
  },
  {
   "cell_type": "markdown",
   "metadata": {
    "colab_type": "text",
    "id": "jpJN4-BBCM3c"
   },
   "source": [
    "# (iii)Model with LSTM"
   ]
  },
  {
   "cell_type": "code",
   "execution_count": 47,
   "metadata": {
    "colab": {
     "base_uri": "https://localhost:8080/",
     "height": 204
    },
    "colab_type": "code",
    "id": "3BtnJ5MjCHva",
    "outputId": "ca33736c-a74b-4135-cbf1-0b5f4e78ef8a"
   },
   "outputs": [
    {
     "name": "stdout",
     "output_type": "stream",
     "text": [
      "Train on 21367 samples, validate on 5342 samples\n",
      "Epoch 1/5\n",
      "21367/21367 [==============================] - 27s 1ms/step - loss: 0.4797 - acc: 0.7675 - val_loss: 0.3642 - val_acc: 0.8443\n",
      "Epoch 2/5\n",
      "21367/21367 [==============================] - 26s 1ms/step - loss: 0.2948 - acc: 0.8867 - val_loss: 0.3051 - val_acc: 0.8690\n",
      "Epoch 3/5\n",
      "21367/21367 [==============================] - 25s 1ms/step - loss: 0.2073 - acc: 0.9272 - val_loss: 0.3089 - val_acc: 0.8744\n",
      "Epoch 4/5\n",
      "21367/21367 [==============================] - 25s 1ms/step - loss: 0.1477 - acc: 0.9521 - val_loss: 0.3447 - val_acc: 0.8731\n",
      "Epoch 5/5\n",
      "21367/21367 [==============================] - 25s 1ms/step - loss: 0.1011 - acc: 0.9708 - val_loss: 0.4472 - val_acc: 0.8710\n"
     ]
    }
   ],
   "source": [
    "model_2=Sequential()\n",
    "#Embedding layer\n",
    "model_2.add(Embedding(input_dim=vocab_size,output_dim=200,input_length=max_len,weights=[embedding_matrix]))\n",
    "model_2.add(LSTM(128))\n",
    "\n",
    "#Fully connected layer\n",
    "model_2.add(Dense(16,activation='relu'))\n",
    "#Dropout for regularization\n",
    "model_2.add(Dropout(0.5))\n",
    "#Output layer\n",
    "model_2.add(Dense(1,activation='sigmoid'))\n",
    "\n",
    "model_2.compile(optimizer='adam',loss='binary_crossentropy',metrics=['acc'])\n",
    "history_2=model_2.fit(X_train,y_train,epochs=5,batch_size=100,validation_data=(X_test,y_test))"
   ]
  },
  {
   "cell_type": "code",
   "execution_count": 48,
   "metadata": {
    "colab": {
     "base_uri": "https://localhost:8080/",
     "height": 68
    },
    "colab_type": "code",
    "id": "hQYO7h4rCd4s",
    "outputId": "ea5aae52-263a-4d55-896f-86d6e26bf789"
   },
   "outputs": [
    {
     "name": "stdout",
     "output_type": "stream",
     "text": [
      "5342/5342 [==============================] - 1s 276us/step\n",
      "Test loss:  0.4472094138589793\n",
      "Test accuracy:  0.87102210521698\n"
     ]
    }
   ],
   "source": [
    "results_2= model_2.evaluate(X_test, y_test)\n",
    "print('Test loss: ', results_2[0])\n",
    "print('Test accuracy: ', results_2[1])"
   ]
  },
  {
   "cell_type": "code",
   "execution_count": 49,
   "metadata": {
    "colab": {
     "base_uri": "https://localhost:8080/",
     "height": 516
    },
    "colab_type": "code",
    "id": "-90xnfy4C6hj",
    "outputId": "881984d5-564e-4f21-e921-2bdf24b60a02"
   },
   "outputs": [
    {
     "data": {
      "text/plain": [
       "Text(0.5, 1.0, 'Epochs vs. Training and Validation Loss')"
      ]
     },
     "execution_count": 49,
     "metadata": {
      "tags": []
     },
     "output_type": "execute_result"
    },
    {
     "data": {
      "image/png": "[encoded data removed]",
      "text/plain": [
       "<Figure size 1440x576 with 2 Axes>"
      ]
     },
     "metadata": {
      "needs_background": "light",
      "tags": []
     },
     "output_type": "display_data"
    }
   ],
   "source": [
    "train_acc=history_2.history['acc']\n",
    "valid_acc=history_2.history['val_acc']\n",
    "\n",
    "train_loss=history_2.history['loss']\n",
    "valid_loss=history_2.history['val_loss']\n",
    "\n",
    "epochs=range(1,len(train_acc)+1)\n",
    "\n",
    "plt.figure(figsize=(20,8))\n",
    "plt.subplot(1,2,1)\n",
    "plt.plot(epochs,train_acc,label='Training Accuracy')\n",
    "plt.plot(epochs,valid_acc,label='Validation Accuracy')\n",
    "plt.legend()\n",
    "plt.title('Epochs vs. Training and Validation Accuracy')\n",
    "\n",
    "plt.subplot(1,2,2)\n",
    "plt.plot(epochs,train_loss,label='Training Loss')\n",
    "plt.plot(epochs,valid_loss,label='Validattion Loss')\n",
    "plt.legend()\n",
    "plt.title('Epochs vs. Training and Validation Loss')"
   ]
  },
  {
   "cell_type": "markdown",
   "metadata": {
    "colab_type": "text",
    "id": "B9Who8SjB_tO"
   },
   "source": [
    "From the above we can see that model is overfitting .Lets take lesser epochs"
   ]
  },
  {
   "cell_type": "markdown",
   "metadata": {
    "colab_type": "text",
    "id": "uK8w17D3CwJZ"
   },
   "source": [
    "# (iv)Model with Bidirectional LSTM and GRU"
   ]
  },
  {
   "cell_type": "code",
   "execution_count": 60,
   "metadata": {
    "colab": {
     "base_uri": "https://localhost:8080/",
     "height": 136
    },
    "colab_type": "code",
    "id": "n7IlV1zaDEix",
    "outputId": "a02b6aba-9221-4aef-d013-ac40e7459eef"
   },
   "outputs": [
    {
     "name": "stdout",
     "output_type": "stream",
     "text": [
      "Train on 21367 samples, validate on 5342 samples\n",
      "Epoch 1/3\n",
      "21367/21367 [==============================] - 102s 5ms/step - loss: 0.4878 - acc: 0.7657 - val_loss: 0.3247 - val_acc: 0.8630\n",
      "Epoch 2/3\n",
      "21367/21367 [==============================] - 98s 5ms/step - loss: 0.2907 - acc: 0.8886 - val_loss: 0.3007 - val_acc: 0.8759\n",
      "Epoch 3/3\n",
      "21367/21367 [==============================] - 97s 5ms/step - loss: 0.2027 - acc: 0.9282 - val_loss: 0.3302 - val_acc: 0.8744\n"
     ]
    }
   ],
   "source": [
    "model_3=Sequential()\n",
    "#Embedding layer\n",
    "model_3.add(Embedding(input_dim=vocab_size,output_dim=200,input_length=max_len,weights=[embedding_matrix]))\n",
    "model_3.add(Bidirectional(LSTM(128, return_sequences = True)))\n",
    "model_3.add(Bidirectional(GRU(32)))\n",
    "\n",
    "#Fully connected layer\n",
    "model_3.add(Dense(16,activation='relu'))\n",
    "#Dropout for regularization\n",
    "model_3.add(Dropout(0.5))\n",
    "#Output layer\n",
    "model_3.add(Dense(1,activation='sigmoid'))\n",
    "\n",
    "model_3.compile(optimizer='adam',loss='binary_crossentropy',metrics=['acc'])\n",
    "history_3=model_3.fit(X_train,y_train,epochs=3,batch_size=100,validation_data=(X_test,y_test))"
   ]
  },
  {
   "cell_type": "code",
   "execution_count": 61,
   "metadata": {
    "colab": {
     "base_uri": "https://localhost:8080/",
     "height": 68
    },
    "colab_type": "code",
    "id": "5TWJ5_8sDBZu",
    "outputId": "55be98cb-fc44-4e45-ded4-40a019c1e251"
   },
   "outputs": [
    {
     "name": "stdout",
     "output_type": "stream",
     "text": [
      "5342/5342 [==============================] - 5s 973us/step\n",
      "Test loss:  0.33017652136183373\n",
      "Test accuracy:  0.8743916153907776\n"
     ]
    }
   ],
   "source": [
    "results_3= model_3.evaluate(X_test, y_test)\n",
    "print('Test loss: ', results_3[0])\n",
    "print('Test accuracy: ', results_3[1])"
   ]
  },
  {
   "cell_type": "code",
   "execution_count": 62,
   "metadata": {
    "colab": {
     "base_uri": "https://localhost:8080/",
     "height": 516
    },
    "colab_type": "code",
    "id": "0DNP2wQMDi2c",
    "outputId": "75665c63-0500-4d36-853f-597f7293fb78"
   },
   "outputs": [
    {
     "data": {
      "text/plain": [
       "Text(0.5, 1.0, 'Epochs vs. Training and Validation Loss')"
      ]
     },
     "execution_count": 62,
     "metadata": {
      "tags": []
     },
     "output_type": "execute_result"
    },
    {
     "data": {
      "image/png": "[encoded data removed]",
      "text/plain": [
       "<Figure size 1440x576 with 2 Axes>"
      ]
     },
     "metadata": {
      "needs_background": "light",
      "tags": []
     },
     "output_type": "display_data"
    }
   ],
   "source": [
    "train_acc=history_3.history['acc']\n",
    "valid_acc=history_3.history['val_acc']\n",
    "\n",
    "train_loss=history_3.history['loss']\n",
    "valid_loss=history_3.history['val_loss']\n",
    "\n",
    "epochs=range(1,len(train_acc)+1)\n",
    "\n",
    "plt.figure(figsize=(20,8))\n",
    "plt.subplot(1,2,1)\n",
    "plt.plot(epochs,train_acc,label='Training Accuracy')\n",
    "plt.plot(epochs,valid_acc,label='Validation Accuracy')\n",
    "plt.legend()\n",
    "plt.title('Epochs vs. Training and Validation Accuracy')\n",
    "\n",
    "plt.subplot(1,2,2)\n",
    "plt.plot(epochs,train_loss,label='Training Loss')\n",
    "plt.plot(epochs,valid_loss,label='Validattion Loss')\n",
    "plt.legend()\n",
    "plt.title('Epochs vs. Training and Validation Loss')\n",
    "\n"
   ]
  },
  {
   "cell_type": "markdown",
   "metadata": {
    "colab_type": "text",
    "id": "CbXEZP6oEn_w"
   },
   "source": [
    "# (11)Model Comparison"
   ]
  },
  {
   "cell_type": "code",
   "execution_count": 63,
   "metadata": {
    "colab": {
     "base_uri": "https://localhost:8080/",
     "height": 173
    },
    "colab_type": "code",
    "id": "SccKTatUEtQj",
    "outputId": "d96d546c-750e-4852-b888-89d09a2337b5"
   },
   "outputs": [
    {
     "data": {
      "text/html": [
       "<div>\n",
       "<style scoped>\n",
       "    .dataframe tbody tr th:only-of-type {\n",
       "        vertical-align: middle;\n",
       "    }\n",
       "\n",
       "    .dataframe tbody tr th {\n",
       "        vertical-align: top;\n",
       "    }\n",
       "\n",
       "    .dataframe thead th {\n",
       "        text-align: right;\n",
       "    }\n",
       "</style>\n",
       "<table border=\"1\" class=\"dataframe\">\n",
       "  <thead>\n",
       "    <tr style=\"text-align: right;\">\n",
       "      <th></th>\n",
       "      <th>Model</th>\n",
       "      <th>Validation_Accuracy</th>\n",
       "      <th>Validation_Loss</th>\n",
       "    </tr>\n",
       "  </thead>\n",
       "  <tbody>\n",
       "    <tr>\n",
       "      <th>0</th>\n",
       "      <td>Model without any RNN</td>\n",
       "      <td>0.856608</td>\n",
       "      <td>0.459869</td>\n",
       "    </tr>\n",
       "    <tr>\n",
       "      <th>1</th>\n",
       "      <td>Model with simple RNN</td>\n",
       "      <td>0.860539</td>\n",
       "      <td>0.409330</td>\n",
       "    </tr>\n",
       "    <tr>\n",
       "      <th>2</th>\n",
       "      <td>Model with LSTM</td>\n",
       "      <td>0.871022</td>\n",
       "      <td>0.447209</td>\n",
       "    </tr>\n",
       "    <tr>\n",
       "      <th>3</th>\n",
       "      <td>Model with Biderctional LSTM</td>\n",
       "      <td>0.874392</td>\n",
       "      <td>0.330177</td>\n",
       "    </tr>\n",
       "  </tbody>\n",
       "</table>\n",
       "</div>"
      ],
      "text/plain": [
       "                          Model  Validation_Accuracy  Validation_Loss\n",
       "0         Model without any RNN             0.856608         0.459869\n",
       "1         Model with simple RNN             0.860539         0.409330\n",
       "2               Model with LSTM             0.871022         0.447209\n",
       "3  Model with Biderctional LSTM             0.874392         0.330177"
      ]
     },
     "execution_count": 63,
     "metadata": {
      "tags": []
     },
     "output_type": "execute_result"
    }
   ],
   "source": [
    "df_score=pd.DataFrame(columns=['Model','Validation_Accuracy','Validation_Loss'])\n",
    "df_score['Model']=[\"Model without any RNN\",\"Model with simple RNN\",\"Model with LSTM\",\"Model with Biderctional LSTM\"]\n",
    "df_score['Validation_Accuracy']=[results_0[1],results_1[1],results_2[1],results_3[1]]\n",
    "df_score['Validation_Loss']=[results_0[0],results_1[0],results_2[0],results_3[0]]\n",
    "df_score"
   ]
  },
  {
   "cell_type": "markdown",
   "metadata": {
    "colab_type": "text",
    "id": "88RgbSQsMtbb"
   },
   "source": [
    "From the above we can see that Model with Bidirectional LSTM layers gives better accuracy and also have less validation loss.Lets see its classification report"
   ]
  },
  {
   "cell_type": "code",
   "execution_count": 64,
   "metadata": {
    "colab": {
     "base_uri": "https://localhost:8080/",
     "height": 102
    },
    "colab_type": "code",
    "id": "PJPfg_dHT6Ee",
    "outputId": "ce286cd0-295e-4508-98a8-9621350e5cc2"
   },
   "outputs": [
    {
     "data": {
      "text/plain": [
       "array([[0],\n",
       "       [0],\n",
       "       [0],\n",
       "       [0],\n",
       "       [1]], dtype=int32)"
      ]
     },
     "execution_count": 64,
     "metadata": {
      "tags": []
     },
     "output_type": "execute_result"
    }
   ],
   "source": [
    "pred = model_3.predict_classes(X_test)\n",
    "pred[0:5]"
   ]
  },
  {
   "cell_type": "code",
   "execution_count": 65,
   "metadata": {
    "colab": {
     "base_uri": "https://localhost:8080/",
     "height": 354
    },
    "colab_type": "code",
    "id": "I2W-cuvqO-J-",
    "outputId": "36d38ba8-5721-4859-caea-b7c6e037e613"
   },
   "outputs": [
    {
     "name": "stdout",
     "output_type": "stream",
     "text": [
      "Confusion Matrix for model with Bidirectional LSTM layer\n"
     ]
    },
    {
     "data": {
      "text/plain": [
       "<matplotlib.axes._subplots.AxesSubplot at 0x7f83d18b3898>"
      ]
     },
     "execution_count": 65,
     "metadata": {
      "tags": []
     },
     "output_type": "execute_result"
    },
    {
     "data": {
      "image/png": "[encoded data removed]",
      "text/plain": [
       "<Figure size 504x360 with 2 Axes>"
      ]
     },
     "metadata": {
      "needs_background": "light",
      "tags": []
     },
     "output_type": "display_data"
    }
   ],
   "source": [
    "from sklearn import metrics\n",
    "# confusion matrix\n",
    "from sklearn.metrics import confusion_matrix\n",
    "import seaborn as sns\n",
    "\n",
    "print(\"Confusion Matrix for model with Bidirectional LSTM layer\")\n",
    "\n",
    "cm=metrics.confusion_matrix(y_test, pred, labels=[1, 0])\n",
    "\n",
    "df_cm = pd.DataFrame(cm, index = [i for i in [\"1\",\"0\"]],\n",
    "                  columns = [i for i in [\"Predict 1\",\"Predict 0\"]])\n",
    "plt.figure(figsize = (7,5))\n",
    "sns.heatmap(df_cm, annot=True,fmt='g')   # fmt='g' shows exact values in confusion matrix"
   ]
  },
  {
   "cell_type": "code",
   "execution_count": 66,
   "metadata": {
    "colab": {
     "base_uri": "https://localhost:8080/",
     "height": 187
    },
    "colab_type": "code",
    "id": "Yw0HJvOwWREI",
    "outputId": "4eda11cf-7024-4605-ddf8-6120494bc176"
   },
   "outputs": [
    {
     "name": "stdout",
     "output_type": "stream",
     "text": [
      "Classification Report of Model\n",
      "              precision    recall  f1-score   support\n",
      "\n",
      "           1       0.83      0.89      0.86      2328\n",
      "           0       0.91      0.86      0.89      3014\n",
      "\n",
      "    accuracy                           0.87      5342\n",
      "   macro avg       0.87      0.88      0.87      5342\n",
      "weighted avg       0.88      0.87      0.87      5342\n",
      "\n"
     ]
    }
   ],
   "source": [
    "print(\"Classification Report of Model\")\n",
    "print(metrics.classification_report(y_test, pred, labels=[1, 0]))"
   ]
  },
  {
   "cell_type": "markdown",
   "metadata": {
    "colab_type": "text",
    "id": "YV82q5w6V87p"
   },
   "source": [
    "Here 1 stand for 'Sarcastic headline' and 0 for 'not Sarcastic headline'"
   ]
  },
  {
   "cell_type": "code",
   "execution_count": 67,
   "metadata": {
    "colab": {
     "base_uri": "https://localhost:8080/",
     "height": 85
    },
    "colab_type": "code",
    "id": "9EJD0WaliNvR",
    "outputId": "51866400-197e-4c38-f5ac-cc69cf2da807"
   },
   "outputs": [
    {
     "name": "stdout",
     "output_type": "stream",
     "text": [
      "[[0]\n",
      " [0]\n",
      " [1]\n",
      " [1]]\n"
     ]
    }
   ],
   "source": [
    "# Lets predict some sample sentences\n",
    "sample_headlines = [\"I can't express how much I love shopping on black Friday\", \" that's what I love about Miami.Attention to detail in preserving historic landmarks of the past\",\n",
    "            \" im just loving the positive vibes out of that\",\"@UserName That must suck\"]\n",
    "\n",
    "# convert to a sequence\n",
    "sequences = tokenizer.texts_to_sequences(sample_headlines)\n",
    "\n",
    "# padding the sequences\n",
    "X_samp = pad_sequences(sequences, maxlen=max_length)\n",
    "\n",
    "# Predicting the label\n",
    "#print(model_3.predict(X_samp))\n",
    "print(model_3.predict_classes(X_samp))"
   ]
  },
  {
   "cell_type": "markdown",
   "metadata": {
    "colab_type": "text",
    "id": "VD3h7Xihlt2d"
   },
   "source": [
    "Here 1 stand for 'Sarcastic headline' and 0 for 'not Sarcastic headline'"
   ]
  },
  {
   "cell_type": "markdown",
   "metadata": {
    "colab_type": "text",
    "id": "oiEk8ca-LCLq"
   },
   "source": [
    "# (12) Conclusion:"
   ]
  },
  {
   "cell_type": "markdown",
   "metadata": {
    "colab_type": "text",
    "id": "MTKn_EMXLNWF"
   },
   "source": [
    "(i)It has been found that Model with Bidirectional LSTM layer work better than others models but it is computational expensive then other model.\n",
    "\n",
    "(ii)GloVe is another word embedding method.\n",
    "\n",
    "(iii)GloVe(Global Vectors) is an unsupervised learning algorithm for obtaining vector representations for words. Training is performed on aggregated global word-word co-occurrence statistics from a corpus, and the resulting representations showcase interesting linear substructures of the word vector space.\n",
    "\n",
    "(iv)GloVe can be used to find relations between words like synonyms, company-product relations, zip codes and cities, etc. It is also used by the SpaCy model to build semantic word embeddings/feature vectors while computing the top list words that match with distance measures such as Cosine Similarity and Euclidean distance approach.\n",
    "\n",
    "(v)Bidirectional LSTMs are an extension of traditional LSTMs that can improve model performance on sequence classification problems."
   ]
  }
 ],
 "metadata": {
  "accelerator": "GPU",
  "colab": {
   "collapsed_sections": [],
   "name": "NLP_Sarcasm_Project_Submitted_by_Manish.ipynb",
   "provenance": []
  },
  "kernelspec": {
   "display_name": "Python 3",
   "language": "python",
   "name": "python3"
  },
  "language_info": {
   "codemirror_mode": {
    "name": "ipython",
    "version": 3
   },
   "file_extension": ".py",
   "mimetype": "text/x-python",
   "name": "python",
   "nbconvert_exporter": "python",
   "pygments_lexer": "ipython3",
   "version": "3.7.3"
  }
 },
 "nbformat": 4,
 "nbformat_minor": 1
}
